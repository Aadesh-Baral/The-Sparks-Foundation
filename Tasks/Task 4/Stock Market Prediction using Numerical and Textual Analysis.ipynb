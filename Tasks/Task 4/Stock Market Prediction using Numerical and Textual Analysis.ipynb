{
 "cells": [
  {
   "cell_type": "code",
   "execution_count": 24,
   "metadata": {},
   "outputs": [],
   "source": [
    "import numpy as np\n",
    "import pandas as pd\n",
    "import seaborn as sns\n",
    "import matplotlib.pyplot as plt\n",
    "\n",
    "%matplotlib inline"
   ]
  },
  {
   "cell_type": "code",
   "execution_count": 25,
   "metadata": {},
   "outputs": [],
   "source": [
    "news=pd.read_csv('india-news-headlines.csv')\n",
    "stocks=pd.read_csv('^BSESN.csv')"
   ]
  },
  {
   "cell_type": "code",
   "execution_count": 26,
   "metadata": {},
   "outputs": [
    {
     "data": {
      "text/html": [
       "<div>\n",
       "<style scoped>\n",
       "    .dataframe tbody tr th:only-of-type {\n",
       "        vertical-align: middle;\n",
       "    }\n",
       "\n",
       "    .dataframe tbody tr th {\n",
       "        vertical-align: top;\n",
       "    }\n",
       "\n",
       "    .dataframe thead th {\n",
       "        text-align: right;\n",
       "    }\n",
       "</style>\n",
       "<table border=\"1\" class=\"dataframe\">\n",
       "  <thead>\n",
       "    <tr style=\"text-align: right;\">\n",
       "      <th></th>\n",
       "      <th>publish_date</th>\n",
       "      <th>headline_category</th>\n",
       "      <th>headline_text</th>\n",
       "    </tr>\n",
       "  </thead>\n",
       "  <tbody>\n",
       "    <tr>\n",
       "      <th>0</th>\n",
       "      <td>20010101</td>\n",
       "      <td>sports.wwe</td>\n",
       "      <td>win over cena satisfying but defeating underta...</td>\n",
       "    </tr>\n",
       "    <tr>\n",
       "      <th>1</th>\n",
       "      <td>20010102</td>\n",
       "      <td>unknown</td>\n",
       "      <td>Status quo will not be disturbed at Ayodhya; s...</td>\n",
       "    </tr>\n",
       "    <tr>\n",
       "      <th>2</th>\n",
       "      <td>20010102</td>\n",
       "      <td>unknown</td>\n",
       "      <td>Fissures in Hurriyat over Pak visit</td>\n",
       "    </tr>\n",
       "    <tr>\n",
       "      <th>3</th>\n",
       "      <td>20010102</td>\n",
       "      <td>unknown</td>\n",
       "      <td>America's unwanted heading for India?</td>\n",
       "    </tr>\n",
       "    <tr>\n",
       "      <th>4</th>\n",
       "      <td>20010102</td>\n",
       "      <td>unknown</td>\n",
       "      <td>For bigwigs; it is destination Goa</td>\n",
       "    </tr>\n",
       "  </tbody>\n",
       "</table>\n",
       "</div>"
      ],
      "text/plain": [
       "   publish_date headline_category  \\\n",
       "0      20010101        sports.wwe   \n",
       "1      20010102           unknown   \n",
       "2      20010102           unknown   \n",
       "3      20010102           unknown   \n",
       "4      20010102           unknown   \n",
       "\n",
       "                                       headline_text  \n",
       "0  win over cena satisfying but defeating underta...  \n",
       "1  Status quo will not be disturbed at Ayodhya; s...  \n",
       "2                Fissures in Hurriyat over Pak visit  \n",
       "3              America's unwanted heading for India?  \n",
       "4                 For bigwigs; it is destination Goa  "
      ]
     },
     "execution_count": 26,
     "metadata": {},
     "output_type": "execute_result"
    }
   ],
   "source": [
    "news.head()"
   ]
  },
  {
   "cell_type": "code",
   "execution_count": 27,
   "metadata": {},
   "outputs": [
    {
     "name": "stdout",
     "output_type": "stream",
     "text": [
      "<class 'pandas.core.frame.DataFrame'>\n",
      "RangeIndex: 3297172 entries, 0 to 3297171\n",
      "Data columns (total 3 columns):\n",
      " #   Column             Dtype \n",
      "---  ------             ----- \n",
      " 0   publish_date       int64 \n",
      " 1   headline_category  object\n",
      " 2   headline_text      object\n",
      "dtypes: int64(1), object(2)\n",
      "memory usage: 75.5+ MB\n"
     ]
    }
   ],
   "source": [
    "news.info()"
   ]
  },
  {
   "cell_type": "code",
   "execution_count": null,
   "metadata": {},
   "outputs": [],
   "source": []
  },
  {
   "cell_type": "code",
   "execution_count": 28,
   "metadata": {},
   "outputs": [
    {
     "data": {
      "text/html": [
       "<div>\n",
       "<style scoped>\n",
       "    .dataframe tbody tr th:only-of-type {\n",
       "        vertical-align: middle;\n",
       "    }\n",
       "\n",
       "    .dataframe tbody tr th {\n",
       "        vertical-align: top;\n",
       "    }\n",
       "\n",
       "    .dataframe thead th {\n",
       "        text-align: right;\n",
       "    }\n",
       "</style>\n",
       "<table border=\"1\" class=\"dataframe\">\n",
       "  <thead>\n",
       "    <tr style=\"text-align: right;\">\n",
       "      <th></th>\n",
       "      <th>Date</th>\n",
       "      <th>Open</th>\n",
       "      <th>High</th>\n",
       "      <th>Low</th>\n",
       "      <th>Close</th>\n",
       "      <th>Adj Close</th>\n",
       "      <th>Volume</th>\n",
       "    </tr>\n",
       "  </thead>\n",
       "  <tbody>\n",
       "    <tr>\n",
       "      <th>0</th>\n",
       "      <td>2015-10-13</td>\n",
       "      <td>26874.289063</td>\n",
       "      <td>26918.519531</td>\n",
       "      <td>26719.099609</td>\n",
       "      <td>26846.529297</td>\n",
       "      <td>26846.529297</td>\n",
       "      <td>10800.0</td>\n",
       "    </tr>\n",
       "    <tr>\n",
       "      <th>1</th>\n",
       "      <td>2015-10-14</td>\n",
       "      <td>26760.320313</td>\n",
       "      <td>26869.080078</td>\n",
       "      <td>26713.279297</td>\n",
       "      <td>26779.660156</td>\n",
       "      <td>26779.660156</td>\n",
       "      <td>10900.0</td>\n",
       "    </tr>\n",
       "    <tr>\n",
       "      <th>2</th>\n",
       "      <td>2015-10-15</td>\n",
       "      <td>26842.189453</td>\n",
       "      <td>27037.949219</td>\n",
       "      <td>26836.769531</td>\n",
       "      <td>27010.140625</td>\n",
       "      <td>27010.140625</td>\n",
       "      <td>12700.0</td>\n",
       "    </tr>\n",
       "    <tr>\n",
       "      <th>3</th>\n",
       "      <td>2015-10-16</td>\n",
       "      <td>27062.800781</td>\n",
       "      <td>27239.220703</td>\n",
       "      <td>26917.119141</td>\n",
       "      <td>27214.599609</td>\n",
       "      <td>27214.599609</td>\n",
       "      <td>10200.0</td>\n",
       "    </tr>\n",
       "    <tr>\n",
       "      <th>4</th>\n",
       "      <td>2015-10-19</td>\n",
       "      <td>27305.619141</td>\n",
       "      <td>27387.910156</td>\n",
       "      <td>27246.789063</td>\n",
       "      <td>27364.919922</td>\n",
       "      <td>27364.919922</td>\n",
       "      <td>8200.0</td>\n",
       "    </tr>\n",
       "  </tbody>\n",
       "</table>\n",
       "</div>"
      ],
      "text/plain": [
       "         Date          Open          High           Low         Close  \\\n",
       "0  2015-10-13  26874.289063  26918.519531  26719.099609  26846.529297   \n",
       "1  2015-10-14  26760.320313  26869.080078  26713.279297  26779.660156   \n",
       "2  2015-10-15  26842.189453  27037.949219  26836.769531  27010.140625   \n",
       "3  2015-10-16  27062.800781  27239.220703  26917.119141  27214.599609   \n",
       "4  2015-10-19  27305.619141  27387.910156  27246.789063  27364.919922   \n",
       "\n",
       "      Adj Close   Volume  \n",
       "0  26846.529297  10800.0  \n",
       "1  26779.660156  10900.0  \n",
       "2  27010.140625  12700.0  \n",
       "3  27214.599609  10200.0  \n",
       "4  27364.919922   8200.0  "
      ]
     },
     "execution_count": 28,
     "metadata": {},
     "output_type": "execute_result"
    }
   ],
   "source": [
    "stocks.head()"
   ]
  },
  {
   "cell_type": "code",
   "execution_count": 29,
   "metadata": {},
   "outputs": [
    {
     "name": "stdout",
     "output_type": "stream",
     "text": [
      "<class 'pandas.core.frame.DataFrame'>\n",
      "RangeIndex: 1231 entries, 0 to 1230\n",
      "Data columns (total 7 columns):\n",
      " #   Column     Non-Null Count  Dtype  \n",
      "---  ------     --------------  -----  \n",
      " 0   Date       1231 non-null   object \n",
      " 1   Open       1227 non-null   float64\n",
      " 2   High       1227 non-null   float64\n",
      " 3   Low        1227 non-null   float64\n",
      " 4   Close      1227 non-null   float64\n",
      " 5   Adj Close  1227 non-null   float64\n",
      " 6   Volume     1227 non-null   float64\n",
      "dtypes: float64(6), object(1)\n",
      "memory usage: 67.4+ KB\n"
     ]
    }
   ],
   "source": [
    "stocks.info()"
   ]
  },
  {
   "cell_type": "code",
   "execution_count": 30,
   "metadata": {},
   "outputs": [],
   "source": [
    "stocks.dropna(inplace=True)"
   ]
  },
  {
   "cell_type": "code",
   "execution_count": 31,
   "metadata": {},
   "outputs": [
    {
     "name": "stdout",
     "output_type": "stream",
     "text": [
      "<class 'pandas.core.frame.DataFrame'>\n",
      "Int64Index: 1227 entries, 0 to 1230\n",
      "Data columns (total 7 columns):\n",
      " #   Column     Non-Null Count  Dtype  \n",
      "---  ------     --------------  -----  \n",
      " 0   Date       1227 non-null   object \n",
      " 1   Open       1227 non-null   float64\n",
      " 2   High       1227 non-null   float64\n",
      " 3   Low        1227 non-null   float64\n",
      " 4   Close      1227 non-null   float64\n",
      " 5   Adj Close  1227 non-null   float64\n",
      " 6   Volume     1227 non-null   float64\n",
      "dtypes: float64(6), object(1)\n",
      "memory usage: 76.7+ KB\n"
     ]
    }
   ],
   "source": [
    "stocks.info()"
   ]
  },
  {
   "cell_type": "code",
   "execution_count": 32,
   "metadata": {},
   "outputs": [],
   "source": [
    "def date_to_year(date):\n",
    "    return(int(str(date)[:4]))\n",
    "\n",
    "def date_to_month(date):\n",
    "    return(int(str(date)[4:6]))\n",
    "\n",
    "def date_to_day(date):\n",
    "    return(int(str(date)[6:]))"
   ]
  },
  {
   "cell_type": "code",
   "execution_count": 33,
   "metadata": {},
   "outputs": [],
   "source": [
    "news['Year']=news['publish_date'].apply(date_to_year)\n",
    "news['month']=news['publish_date'].apply(date_to_month)\n",
    "news['day']=news['publish_date'].apply(date_to_day)"
   ]
  },
  {
   "cell_type": "code",
   "execution_count": 34,
   "metadata": {},
   "outputs": [
    {
     "data": {
      "text/html": [
       "<div>\n",
       "<style scoped>\n",
       "    .dataframe tbody tr th:only-of-type {\n",
       "        vertical-align: middle;\n",
       "    }\n",
       "\n",
       "    .dataframe tbody tr th {\n",
       "        vertical-align: top;\n",
       "    }\n",
       "\n",
       "    .dataframe thead th {\n",
       "        text-align: right;\n",
       "    }\n",
       "</style>\n",
       "<table border=\"1\" class=\"dataframe\">\n",
       "  <thead>\n",
       "    <tr style=\"text-align: right;\">\n",
       "      <th></th>\n",
       "      <th>publish_date</th>\n",
       "      <th>headline_category</th>\n",
       "      <th>headline_text</th>\n",
       "      <th>Year</th>\n",
       "      <th>month</th>\n",
       "      <th>day</th>\n",
       "    </tr>\n",
       "  </thead>\n",
       "  <tbody>\n",
       "    <tr>\n",
       "      <th>0</th>\n",
       "      <td>20010101</td>\n",
       "      <td>sports.wwe</td>\n",
       "      <td>win over cena satisfying but defeating underta...</td>\n",
       "      <td>2001</td>\n",
       "      <td>1</td>\n",
       "      <td>1</td>\n",
       "    </tr>\n",
       "    <tr>\n",
       "      <th>1</th>\n",
       "      <td>20010102</td>\n",
       "      <td>unknown</td>\n",
       "      <td>Status quo will not be disturbed at Ayodhya; s...</td>\n",
       "      <td>2001</td>\n",
       "      <td>1</td>\n",
       "      <td>2</td>\n",
       "    </tr>\n",
       "    <tr>\n",
       "      <th>2</th>\n",
       "      <td>20010102</td>\n",
       "      <td>unknown</td>\n",
       "      <td>Fissures in Hurriyat over Pak visit</td>\n",
       "      <td>2001</td>\n",
       "      <td>1</td>\n",
       "      <td>2</td>\n",
       "    </tr>\n",
       "    <tr>\n",
       "      <th>3</th>\n",
       "      <td>20010102</td>\n",
       "      <td>unknown</td>\n",
       "      <td>America's unwanted heading for India?</td>\n",
       "      <td>2001</td>\n",
       "      <td>1</td>\n",
       "      <td>2</td>\n",
       "    </tr>\n",
       "    <tr>\n",
       "      <th>4</th>\n",
       "      <td>20010102</td>\n",
       "      <td>unknown</td>\n",
       "      <td>For bigwigs; it is destination Goa</td>\n",
       "      <td>2001</td>\n",
       "      <td>1</td>\n",
       "      <td>2</td>\n",
       "    </tr>\n",
       "  </tbody>\n",
       "</table>\n",
       "</div>"
      ],
      "text/plain": [
       "   publish_date headline_category  \\\n",
       "0      20010101        sports.wwe   \n",
       "1      20010102           unknown   \n",
       "2      20010102           unknown   \n",
       "3      20010102           unknown   \n",
       "4      20010102           unknown   \n",
       "\n",
       "                                       headline_text  Year  month  day  \n",
       "0  win over cena satisfying but defeating underta...  2001      1    1  \n",
       "1  Status quo will not be disturbed at Ayodhya; s...  2001      1    2  \n",
       "2                Fissures in Hurriyat over Pak visit  2001      1    2  \n",
       "3              America's unwanted heading for India?  2001      1    2  \n",
       "4                 For bigwigs; it is destination Goa  2001      1    2  "
      ]
     },
     "execution_count": 34,
     "metadata": {},
     "output_type": "execute_result"
    }
   ],
   "source": [
    "news.head()"
   ]
  },
  {
   "cell_type": "code",
   "execution_count": 35,
   "metadata": {},
   "outputs": [
    {
     "name": "stderr",
     "output_type": "stream",
     "text": [
      "C:\\Users\\elklo\\Anaconda3\\envs\\Aadesh\\lib\\site-packages\\pandas\\core\\frame.py:3997: SettingWithCopyWarning: \n",
      "A value is trying to be set on a copy of a slice from a DataFrame\n",
      "\n",
      "See the caveats in the documentation: https://pandas.pydata.org/pandas-docs/stable/user_guide/indexing.html#returning-a-view-versus-a-copy\n",
      "  errors=errors,\n"
     ]
    }
   ],
   "source": [
    "news_main=news[news['Year']>=2015]\n",
    "news_2015=news_main[news_main[\"Year\"]==2015]\n",
    "news_2015=news_2015[news_2015[\"month\"]<=10]\n",
    "news_10=news_2015[news_2015['month']==10]\n",
    "news_10=news_10[news_10['day']>12]\n",
    "news_2015.drop(list(news_10.index),inplace=True)\n",
    "news_main.drop(list(news_2015.index),inplace=True)"
   ]
  },
  {
   "cell_type": "code",
   "execution_count": 36,
   "metadata": {},
   "outputs": [
    {
     "data": {
      "text/html": [
       "<div>\n",
       "<style scoped>\n",
       "    .dataframe tbody tr th:only-of-type {\n",
       "        vertical-align: middle;\n",
       "    }\n",
       "\n",
       "    .dataframe tbody tr th {\n",
       "        vertical-align: top;\n",
       "    }\n",
       "\n",
       "    .dataframe thead th {\n",
       "        text-align: right;\n",
       "    }\n",
       "</style>\n",
       "<table border=\"1\" class=\"dataframe\">\n",
       "  <thead>\n",
       "    <tr style=\"text-align: right;\">\n",
       "      <th></th>\n",
       "      <th>publish_date</th>\n",
       "      <th>headline_category</th>\n",
       "      <th>headline_text</th>\n",
       "      <th>Year</th>\n",
       "      <th>month</th>\n",
       "      <th>day</th>\n",
       "    </tr>\n",
       "  </thead>\n",
       "  <tbody>\n",
       "    <tr>\n",
       "      <th>2203188</th>\n",
       "      <td>20151013</td>\n",
       "      <td>life-style.health-fitness.diet</td>\n",
       "      <td>Best carbs for weight loss</td>\n",
       "      <td>2015</td>\n",
       "      <td>10</td>\n",
       "      <td>13</td>\n",
       "    </tr>\n",
       "    <tr>\n",
       "      <th>2203189</th>\n",
       "      <td>20151013</td>\n",
       "      <td>life-style.health-fitness.diet</td>\n",
       "      <td>Diet essentials for working women</td>\n",
       "      <td>2015</td>\n",
       "      <td>10</td>\n",
       "      <td>13</td>\n",
       "    </tr>\n",
       "    <tr>\n",
       "      <th>2203190</th>\n",
       "      <td>20151013</td>\n",
       "      <td>life-style.relationships.pets</td>\n",
       "      <td>What's ailing your pet dog?</td>\n",
       "      <td>2015</td>\n",
       "      <td>10</td>\n",
       "      <td>13</td>\n",
       "    </tr>\n",
       "    <tr>\n",
       "      <th>2203191</th>\n",
       "      <td>20151013</td>\n",
       "      <td>life-style.relationships.work</td>\n",
       "      <td>Love between the cubicles</td>\n",
       "      <td>2015</td>\n",
       "      <td>10</td>\n",
       "      <td>13</td>\n",
       "    </tr>\n",
       "    <tr>\n",
       "      <th>2203192</th>\n",
       "      <td>20151013</td>\n",
       "      <td>life-style.health-fitness.health-news</td>\n",
       "      <td>What your food cravings say about you</td>\n",
       "      <td>2015</td>\n",
       "      <td>10</td>\n",
       "      <td>13</td>\n",
       "    </tr>\n",
       "  </tbody>\n",
       "</table>\n",
       "</div>"
      ],
      "text/plain": [
       "         publish_date                      headline_category  \\\n",
       "2203188      20151013         life-style.health-fitness.diet   \n",
       "2203189      20151013         life-style.health-fitness.diet   \n",
       "2203190      20151013          life-style.relationships.pets   \n",
       "2203191      20151013          life-style.relationships.work   \n",
       "2203192      20151013  life-style.health-fitness.health-news   \n",
       "\n",
       "                                 headline_text  Year  month  day  \n",
       "2203188             Best carbs for weight loss  2015     10   13  \n",
       "2203189      Diet essentials for working women  2015     10   13  \n",
       "2203190            What's ailing your pet dog?  2015     10   13  \n",
       "2203191              Love between the cubicles  2015     10   13  \n",
       "2203192  What your food cravings say about you  2015     10   13  "
      ]
     },
     "execution_count": 36,
     "metadata": {},
     "output_type": "execute_result"
    }
   ],
   "source": [
    "news_main.head()"
   ]
  },
  {
   "cell_type": "code",
   "execution_count": 37,
   "metadata": {
    "scrolled": true
   },
   "outputs": [
    {
     "data": {
      "text/plain": [
       "india                              50557\n",
       "city.chandigarh                    41623\n",
       "city.delhi                         40935\n",
       "city.mumbai                        38514\n",
       "city.hyderabad                     36429\n",
       "entertainment.hindi.bollywood      33838\n",
       "city.chennai                       33291\n",
       "business.international-business    31168\n",
       "city.nagpur                        30914\n",
       "business.india-business            30764\n",
       "Name: headline_category, dtype: int64"
      ]
     },
     "execution_count": 37,
     "metadata": {},
     "output_type": "execute_result"
    }
   ],
   "source": [
    "news_main['headline_category'].value_counts()[:10]"
   ]
  },
  {
   "cell_type": "code",
   "execution_count": 38,
   "metadata": {},
   "outputs": [],
   "source": [
    "news_international_business=news_main[news_main['headline_category']=='business.international-business']\n",
    "news_national_business=news_main[news_main['headline_category']=='business.india-business']"
   ]
  },
  {
   "cell_type": "code",
   "execution_count": 39,
   "metadata": {},
   "outputs": [
    {
     "data": {
      "text/plain": [
       "20170816    262\n",
       "20171020    256\n",
       "20171003    248\n",
       "20171019    245\n",
       "20170825    245\n",
       "           ... \n",
       "20151129      1\n",
       "20190116      1\n",
       "20151209      1\n",
       "20151225      1\n",
       "20181030      1\n",
       "Name: publish_date, Length: 1015, dtype: int64"
      ]
     },
     "execution_count": 39,
     "metadata": {},
     "output_type": "execute_result"
    }
   ],
   "source": [
    "news_international_business.publish_date.value_counts()"
   ]
  },
  {
   "cell_type": "code",
   "execution_count": 40,
   "metadata": {},
   "outputs": [
    {
     "data": {
      "text/html": [
       "<div>\n",
       "<style scoped>\n",
       "    .dataframe tbody tr th:only-of-type {\n",
       "        vertical-align: middle;\n",
       "    }\n",
       "\n",
       "    .dataframe tbody tr th {\n",
       "        vertical-align: top;\n",
       "    }\n",
       "\n",
       "    .dataframe thead th {\n",
       "        text-align: right;\n",
       "    }\n",
       "</style>\n",
       "<table border=\"1\" class=\"dataframe\">\n",
       "  <thead>\n",
       "    <tr style=\"text-align: right;\">\n",
       "      <th></th>\n",
       "      <th>publish_date</th>\n",
       "      <th>headline_category</th>\n",
       "      <th>headline_text</th>\n",
       "      <th>Year</th>\n",
       "      <th>month</th>\n",
       "      <th>day</th>\n",
       "    </tr>\n",
       "  </thead>\n",
       "  <tbody>\n",
       "    <tr>\n",
       "      <th>2203323</th>\n",
       "      <td>20151013</td>\n",
       "      <td>business.international-business</td>\n",
       "      <td>Angus Deaton; who worked on poverty in India; ...</td>\n",
       "      <td>2015</td>\n",
       "      <td>10</td>\n",
       "      <td>13</td>\n",
       "    </tr>\n",
       "    <tr>\n",
       "      <th>2203605</th>\n",
       "      <td>20151013</td>\n",
       "      <td>business.international-business</td>\n",
       "      <td>Shanghai; Hong Kong stocks down after China tr...</td>\n",
       "      <td>2015</td>\n",
       "      <td>10</td>\n",
       "      <td>13</td>\n",
       "    </tr>\n",
       "    <tr>\n",
       "      <th>2203613</th>\n",
       "      <td>20151013</td>\n",
       "      <td>business.international-business</td>\n",
       "      <td>Gold drops from 3-month high on profit taking</td>\n",
       "      <td>2015</td>\n",
       "      <td>10</td>\n",
       "      <td>13</td>\n",
       "    </tr>\n",
       "    <tr>\n",
       "      <th>2203620</th>\n",
       "      <td>20151013</td>\n",
       "      <td>business.international-business</td>\n",
       "      <td>Norway's Gassco revises unplanned outage at He...</td>\n",
       "      <td>2015</td>\n",
       "      <td>10</td>\n",
       "      <td>13</td>\n",
       "    </tr>\n",
       "    <tr>\n",
       "      <th>2203801</th>\n",
       "      <td>20151013</td>\n",
       "      <td>business.international-business</td>\n",
       "      <td>SABMiller accepts 68bn AB InBev takeover offer</td>\n",
       "      <td>2015</td>\n",
       "      <td>10</td>\n",
       "      <td>13</td>\n",
       "    </tr>\n",
       "    <tr>\n",
       "      <th>...</th>\n",
       "      <td>...</td>\n",
       "      <td>...</td>\n",
       "      <td>...</td>\n",
       "      <td>...</td>\n",
       "      <td>...</td>\n",
       "      <td>...</td>\n",
       "    </tr>\n",
       "    <tr>\n",
       "      <th>3274556</th>\n",
       "      <td>20200516</td>\n",
       "      <td>business.international-business</td>\n",
       "      <td>Donald Trump threatens to tax companies produc...</td>\n",
       "      <td>2020</td>\n",
       "      <td>5</td>\n",
       "      <td>16</td>\n",
       "    </tr>\n",
       "    <tr>\n",
       "      <th>3280022</th>\n",
       "      <td>20200527</td>\n",
       "      <td>business.international-business</td>\n",
       "      <td>From Wall Street to Bethlehem; iconic sites re...</td>\n",
       "      <td>2020</td>\n",
       "      <td>5</td>\n",
       "      <td>27</td>\n",
       "    </tr>\n",
       "    <tr>\n",
       "      <th>3280028</th>\n",
       "      <td>20200527</td>\n",
       "      <td>business.international-business</td>\n",
       "      <td>Boeing set to announce significant US job cuts...</td>\n",
       "      <td>2020</td>\n",
       "      <td>5</td>\n",
       "      <td>27</td>\n",
       "    </tr>\n",
       "    <tr>\n",
       "      <th>3284039</th>\n",
       "      <td>20200604</td>\n",
       "      <td>business.international-business</td>\n",
       "      <td>US launches probe into tax on Amazon; Netflix</td>\n",
       "      <td>2020</td>\n",
       "      <td>6</td>\n",
       "      <td>4</td>\n",
       "    </tr>\n",
       "    <tr>\n",
       "      <th>3288524</th>\n",
       "      <td>20200613</td>\n",
       "      <td>business.international-business</td>\n",
       "      <td>lessons from chinese companies response to cov...</td>\n",
       "      <td>2020</td>\n",
       "      <td>6</td>\n",
       "      <td>13</td>\n",
       "    </tr>\n",
       "  </tbody>\n",
       "</table>\n",
       "<p>31168 rows × 6 columns</p>\n",
       "</div>"
      ],
      "text/plain": [
       "         publish_date                headline_category  \\\n",
       "2203323      20151013  business.international-business   \n",
       "2203605      20151013  business.international-business   \n",
       "2203613      20151013  business.international-business   \n",
       "2203620      20151013  business.international-business   \n",
       "2203801      20151013  business.international-business   \n",
       "...               ...                              ...   \n",
       "3274556      20200516  business.international-business   \n",
       "3280022      20200527  business.international-business   \n",
       "3280028      20200527  business.international-business   \n",
       "3284039      20200604  business.international-business   \n",
       "3288524      20200613  business.international-business   \n",
       "\n",
       "                                             headline_text  Year  month  day  \n",
       "2203323  Angus Deaton; who worked on poverty in India; ...  2015     10   13  \n",
       "2203605  Shanghai; Hong Kong stocks down after China tr...  2015     10   13  \n",
       "2203613      Gold drops from 3-month high on profit taking  2015     10   13  \n",
       "2203620  Norway's Gassco revises unplanned outage at He...  2015     10   13  \n",
       "2203801     SABMiller accepts 68bn AB InBev takeover offer  2015     10   13  \n",
       "...                                                    ...   ...    ...  ...  \n",
       "3274556  Donald Trump threatens to tax companies produc...  2020      5   16  \n",
       "3280022  From Wall Street to Bethlehem; iconic sites re...  2020      5   27  \n",
       "3280028  Boeing set to announce significant US job cuts...  2020      5   27  \n",
       "3284039      US launches probe into tax on Amazon; Netflix  2020      6    4  \n",
       "3288524  lessons from chinese companies response to cov...  2020      6   13  \n",
       "\n",
       "[31168 rows x 6 columns]"
      ]
     },
     "execution_count": 40,
     "metadata": {},
     "output_type": "execute_result"
    }
   ],
   "source": [
    "news_international_business"
   ]
  },
  {
   "cell_type": "code",
   "execution_count": 41,
   "metadata": {},
   "outputs": [
    {
     "name": "stderr",
     "output_type": "stream",
     "text": [
      "[nltk_data] Downloading package vader_lexicon to\n",
      "[nltk_data]     C:\\Users\\elklo\\AppData\\Roaming\\nltk_data...\n",
      "[nltk_data]   Package vader_lexicon is already up-to-date!\n"
     ]
    }
   ],
   "source": [
    "import nltk\n",
    "nltk.download('vader_lexicon')\n",
    "from nltk.sentiment.vader import SentimentIntensityAnalyzer"
   ]
  },
  {
   "cell_type": "code",
   "execution_count": 42,
   "metadata": {},
   "outputs": [
    {
     "name": "stderr",
     "output_type": "stream",
     "text": [
      "C:\\Users\\elklo\\Anaconda3\\envs\\Aadesh\\lib\\site-packages\\ipykernel_launcher.py:2: SettingWithCopyWarning: \n",
      "A value is trying to be set on a copy of a slice from a DataFrame.\n",
      "Try using .loc[row_indexer,col_indexer] = value instead\n",
      "\n",
      "See the caveats in the documentation: https://pandas.pydata.org/pandas-docs/stable/user_guide/indexing.html#returning-a-view-versus-a-copy\n",
      "  \n",
      "C:\\Users\\elklo\\Anaconda3\\envs\\Aadesh\\lib\\site-packages\\ipykernel_launcher.py:3: SettingWithCopyWarning: \n",
      "A value is trying to be set on a copy of a slice from a DataFrame.\n",
      "Try using .loc[row_indexer,col_indexer] = value instead\n",
      "\n",
      "See the caveats in the documentation: https://pandas.pydata.org/pandas-docs/stable/user_guide/indexing.html#returning-a-view-versus-a-copy\n",
      "  This is separate from the ipykernel package so we can avoid doing imports until\n",
      "C:\\Users\\elklo\\Anaconda3\\envs\\Aadesh\\lib\\site-packages\\ipykernel_launcher.py:4: SettingWithCopyWarning: \n",
      "A value is trying to be set on a copy of a slice from a DataFrame.\n",
      "Try using .loc[row_indexer,col_indexer] = value instead\n",
      "\n",
      "See the caveats in the documentation: https://pandas.pydata.org/pandas-docs/stable/user_guide/indexing.html#returning-a-view-versus-a-copy\n",
      "  after removing the cwd from sys.path.\n"
     ]
    }
   ],
   "source": [
    "sia=SentimentIntensityAnalyzer()\n",
    "news_international_business['Negative'] = [sia.polarity_scores(v)['neg'] for v in news_international_business['headline_text']]\n",
    "news_international_business['Neutral'] = [sia.polarity_scores(v)['neu'] for v in news_international_business['headline_text']]\n",
    "news_international_business['Positive'] = [sia.polarity_scores(v)['pos'] for v in news_international_business['headline_text']]"
   ]
  },
  {
   "cell_type": "code",
   "execution_count": 43,
   "metadata": {},
   "outputs": [
    {
     "name": "stderr",
     "output_type": "stream",
     "text": [
      "C:\\Users\\elklo\\Anaconda3\\envs\\Aadesh\\lib\\site-packages\\pandas\\core\\frame.py:3997: SettingWithCopyWarning: \n",
      "A value is trying to be set on a copy of a slice from a DataFrame\n",
      "\n",
      "See the caveats in the documentation: https://pandas.pydata.org/pandas-docs/stable/user_guide/indexing.html#returning-a-view-versus-a-copy\n",
      "  errors=errors,\n"
     ]
    }
   ],
   "source": [
    "news_international_business.drop(['Year','month','day','headline_category'],axis=1,inplace=True)"
   ]
  },
  {
   "cell_type": "code",
   "execution_count": 44,
   "metadata": {},
   "outputs": [
    {
     "data": {
      "text/html": [
       "<div>\n",
       "<style scoped>\n",
       "    .dataframe tbody tr th:only-of-type {\n",
       "        vertical-align: middle;\n",
       "    }\n",
       "\n",
       "    .dataframe tbody tr th {\n",
       "        vertical-align: top;\n",
       "    }\n",
       "\n",
       "    .dataframe thead th {\n",
       "        text-align: right;\n",
       "    }\n",
       "</style>\n",
       "<table border=\"1\" class=\"dataframe\">\n",
       "  <thead>\n",
       "    <tr style=\"text-align: right;\">\n",
       "      <th></th>\n",
       "      <th>headline_text</th>\n",
       "    </tr>\n",
       "    <tr>\n",
       "      <th>publish_date</th>\n",
       "      <th></th>\n",
       "    </tr>\n",
       "  </thead>\n",
       "  <tbody>\n",
       "    <tr>\n",
       "      <th>20151013</th>\n",
       "      <td>Angus Deaton; who worked on poverty in India; ...</td>\n",
       "    </tr>\n",
       "    <tr>\n",
       "      <th>20151014</th>\n",
       "      <td>China inflation falls in September: GovtDollar...</td>\n",
       "    </tr>\n",
       "    <tr>\n",
       "      <th>20151015</th>\n",
       "      <td>Lupin; Boehringer to co-market drugNo pressure...</td>\n",
       "    </tr>\n",
       "    <tr>\n",
       "      <th>20151016</th>\n",
       "      <td>US deficit in 2015 drops to eight-year low</td>\n",
       "    </tr>\n",
       "    <tr>\n",
       "      <th>20151017</th>\n",
       "      <td>US could run out of cash after November 3: Tre...</td>\n",
       "    </tr>\n",
       "    <tr>\n",
       "      <th>...</th>\n",
       "      <td>...</td>\n",
       "    </tr>\n",
       "    <tr>\n",
       "      <th>20200422</th>\n",
       "      <td>US Senate approves nearly $500 billion more fo...</td>\n",
       "    </tr>\n",
       "    <tr>\n",
       "      <th>20200516</th>\n",
       "      <td>Donald Trump threatens to tax companies produc...</td>\n",
       "    </tr>\n",
       "    <tr>\n",
       "      <th>20200527</th>\n",
       "      <td>From Wall Street to Bethlehem; iconic sites re...</td>\n",
       "    </tr>\n",
       "    <tr>\n",
       "      <th>20200604</th>\n",
       "      <td>US launches probe into tax on Amazon; Netflix</td>\n",
       "    </tr>\n",
       "    <tr>\n",
       "      <th>20200613</th>\n",
       "      <td>lessons from chinese companies response to cov...</td>\n",
       "    </tr>\n",
       "  </tbody>\n",
       "</table>\n",
       "<p>1015 rows × 1 columns</p>\n",
       "</div>"
      ],
      "text/plain": [
       "                                                  headline_text\n",
       "publish_date                                                   \n",
       "20151013      Angus Deaton; who worked on poverty in India; ...\n",
       "20151014      China inflation falls in September: GovtDollar...\n",
       "20151015      Lupin; Boehringer to co-market drugNo pressure...\n",
       "20151016             US deficit in 2015 drops to eight-year low\n",
       "20151017      US could run out of cash after November 3: Tre...\n",
       "...                                                         ...\n",
       "20200422      US Senate approves nearly $500 billion more fo...\n",
       "20200516      Donald Trump threatens to tax companies produc...\n",
       "20200527      From Wall Street to Bethlehem; iconic sites re...\n",
       "20200604          US launches probe into tax on Amazon; Netflix\n",
       "20200613      lessons from chinese companies response to cov...\n",
       "\n",
       "[1015 rows x 1 columns]"
      ]
     },
     "execution_count": 44,
     "metadata": {},
     "output_type": "execute_result"
    }
   ],
   "source": [
    "grouped=pd.DataFrame(news_international_business.groupby('publish_date')['headline_text'].sum())\n",
    "grouped"
   ]
  },
  {
   "cell_type": "code",
   "execution_count": 45,
   "metadata": {},
   "outputs": [
    {
     "name": "stderr",
     "output_type": "stream",
     "text": [
      "C:\\Users\\elklo\\Anaconda3\\envs\\Aadesh\\lib\\site-packages\\ipykernel_launcher.py:8: SettingWithCopyWarning: \n",
      "A value is trying to be set on a copy of a slice from a DataFrame.\n",
      "Try using .loc[row_indexer,col_indexer] = value instead\n",
      "\n",
      "See the caveats in the documentation: https://pandas.pydata.org/pandas-docs/stable/user_guide/indexing.html#returning-a-view-versus-a-copy\n",
      "  \n",
      "C:\\Users\\elklo\\Anaconda3\\envs\\Aadesh\\lib\\site-packages\\pandas\\core\\frame.py:3997: SettingWithCopyWarning: \n",
      "A value is trying to be set on a copy of a slice from a DataFrame\n",
      "\n",
      "See the caveats in the documentation: https://pandas.pydata.org/pandas-docs/stable/user_guide/indexing.html#returning-a-view-versus-a-copy\n",
      "  errors=errors,\n"
     ]
    },
    {
     "data": {
      "text/html": [
       "<div>\n",
       "<style scoped>\n",
       "    .dataframe tbody tr th:only-of-type {\n",
       "        vertical-align: middle;\n",
       "    }\n",
       "\n",
       "    .dataframe tbody tr th {\n",
       "        vertical-align: top;\n",
       "    }\n",
       "\n",
       "    .dataframe thead th {\n",
       "        text-align: right;\n",
       "    }\n",
       "</style>\n",
       "<table border=\"1\" class=\"dataframe\">\n",
       "  <thead>\n",
       "    <tr style=\"text-align: right;\">\n",
       "      <th></th>\n",
       "      <th>publish_date</th>\n",
       "      <th>Close</th>\n",
       "    </tr>\n",
       "  </thead>\n",
       "  <tbody>\n",
       "    <tr>\n",
       "      <th>0</th>\n",
       "      <td>20151013</td>\n",
       "      <td>26846.529297</td>\n",
       "    </tr>\n",
       "    <tr>\n",
       "      <th>1</th>\n",
       "      <td>20151014</td>\n",
       "      <td>26779.660156</td>\n",
       "    </tr>\n",
       "    <tr>\n",
       "      <th>2</th>\n",
       "      <td>20151015</td>\n",
       "      <td>27010.140625</td>\n",
       "    </tr>\n",
       "    <tr>\n",
       "      <th>3</th>\n",
       "      <td>20151016</td>\n",
       "      <td>27214.599609</td>\n",
       "    </tr>\n",
       "    <tr>\n",
       "      <th>4</th>\n",
       "      <td>20151019</td>\n",
       "      <td>27364.919922</td>\n",
       "    </tr>\n",
       "    <tr>\n",
       "      <th>...</th>\n",
       "      <td>...</td>\n",
       "      <td>...</td>\n",
       "    </tr>\n",
       "    <tr>\n",
       "      <th>1226</th>\n",
       "      <td>20201006</td>\n",
       "      <td>39574.570313</td>\n",
       "    </tr>\n",
       "    <tr>\n",
       "      <th>1227</th>\n",
       "      <td>20201007</td>\n",
       "      <td>39878.949219</td>\n",
       "    </tr>\n",
       "    <tr>\n",
       "      <th>1228</th>\n",
       "      <td>20201008</td>\n",
       "      <td>40182.671875</td>\n",
       "    </tr>\n",
       "    <tr>\n",
       "      <th>1229</th>\n",
       "      <td>20201009</td>\n",
       "      <td>40509.488281</td>\n",
       "    </tr>\n",
       "    <tr>\n",
       "      <th>1230</th>\n",
       "      <td>20201012</td>\n",
       "      <td>40593.800781</td>\n",
       "    </tr>\n",
       "  </tbody>\n",
       "</table>\n",
       "<p>1227 rows × 2 columns</p>\n",
       "</div>"
      ],
      "text/plain": [
       "      publish_date         Close\n",
       "0         20151013  26846.529297\n",
       "1         20151014  26779.660156\n",
       "2         20151015  27010.140625\n",
       "3         20151016  27214.599609\n",
       "4         20151019  27364.919922\n",
       "...            ...           ...\n",
       "1226      20201006  39574.570313\n",
       "1227      20201007  39878.949219\n",
       "1228      20201008  40182.671875\n",
       "1229      20201009  40509.488281\n",
       "1230      20201012  40593.800781\n",
       "\n",
       "[1227 rows x 2 columns]"
      ]
     },
     "execution_count": 45,
     "metadata": {},
     "output_type": "execute_result"
    }
   ],
   "source": [
    "df_close=stocks[['Date','Close']]\n",
    "import string\n",
    "def datetostr(date):\n",
    "    published_date=[d for d in date]\n",
    "    published_date=[d for d in date if d not in string.punctuation]\n",
    "    published_date=''.join(published_date)\n",
    "    return int(published_date)\n",
    "df_close['publish_date']=df_close['Date'].apply(datetostr)\n",
    "df_close.drop('Date',axis=1,inplace=True)\n",
    "df_close=df_close[['publish_date','Close']]\n",
    "df_close"
   ]
  },
  {
   "cell_type": "code",
   "execution_count": 46,
   "metadata": {},
   "outputs": [],
   "source": [
    "close_date=list(df_close['publish_date'].values)\n",
    "group_date=list(grouped.index)"
   ]
  },
  {
   "cell_type": "code",
   "execution_count": 1,
   "metadata": {},
   "outputs": [
    {
     "name": "stderr",
     "output_type": "stream",
     "text": [
      "[nltk_data] Downloading package vader_lexicon to\n",
      "[nltk_data]     C:\\Users\\elklo\\AppData\\Roaming\\nltk_data...\n",
      "[nltk_data]   Package vader_lexicon is already up-to-date!\n"
     ]
    }
   ],
   "source": [
    "import nltk\n",
    "nltk.download('vader_lexicon')\n",
    "from nltk.sentiment.vader import SentimentIntensityAnalyzer"
   ]
  },
  {
   "cell_type": "code",
   "execution_count": null,
   "metadata": {},
   "outputs": [],
   "source": [
    "sia=SentimentIntensityAnalyzer()\n",
    "news_international_business['Negative'] = [sia.polarity_scores(v)['neg'] for v in news_international_business['headline_text']]\n",
    "news_international_business['Neutral'] = [sia.polarity_scores(v)['neu'] for v in news_international_business['headline_text']]\n",
    "news_international_business['Positive'] = [sia.polarity_scores(v)['pos'] for v in news_international_business['headline_text']]"
   ]
  }
 ],
 "metadata": {
  "kernelspec": {
   "display_name": "Python 3",
   "language": "python",
   "name": "python3"
  },
  "language_info": {
   "codemirror_mode": {
    "name": "ipython",
    "version": 3
   },
   "file_extension": ".py",
   "mimetype": "text/x-python",
   "name": "python",
   "nbconvert_exporter": "python",
   "pygments_lexer": "ipython3",
   "version": "3.7.1"
  }
 },
 "nbformat": 4,
 "nbformat_minor": 4
}
