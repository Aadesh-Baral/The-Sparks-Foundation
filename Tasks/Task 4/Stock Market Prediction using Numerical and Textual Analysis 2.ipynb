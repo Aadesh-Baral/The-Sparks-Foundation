{
 "cells": [
  {
   "cell_type": "markdown",
   "metadata": {},
   "source": [
    "# Aadesh Baral"
   ]
  },
  {
   "cell_type": "markdown",
   "metadata": {},
   "source": [
    "# Task 4"
   ]
  },
  {
   "cell_type": "markdown",
   "metadata": {},
   "source": [
    "# Stock Market Prediction using Numerical and Textual Analysis"
   ]
  },
  {
   "cell_type": "markdown",
   "metadata": {},
   "source": [
    "● Create a hybrid model for stock price/performance prediction using\n",
    "numerical analysis of historical stock prices, and sentimental analysis\n",
    "of news headlines\n",
    "\n",
    "● Stock to analyze and predict - SENSEX (S&P BSE SENSEX)\n",
    "\n",
    "● Download historical stock prices from https://finance.yahoo.com\n",
    "\n",
    "● Download textual (news) data from https://bit.ly/36fFPI6\n",
    "\n",
    "● Use either R or Python, or both for separate analysis and then\n",
    "combine the findings to create a hybrid model\n",
    "\n",
    "● Depending on the accuracy of the model and quality of the task, we\n",
    "will endorse your work and help you publish it."
   ]
  },
  {
   "cell_type": "code",
   "execution_count": null,
   "metadata": {},
   "outputs": [],
   "source": [
    "import pandas as pd\n",
    "import numpy as np\n",
    "import matplotlib.pyplot as plt\n",
    "import seaborn as sns\n",
    "from sklearn.preprocessing import MinMaxScaler\n",
    "from sklearn.model_selection import train_test_split\n",
    "from sklearn.metrics import mean_squared_error\n",
    "import keras\n",
    "from keras.models import Sequential\n",
    "from keras.layers import Dense\n",
    "from keras.layers import LSTM\n",
    "from keras.optimizers import adam\n",
    "%matplotlib inline"
   ]
  },
  {
   "cell_type": "code",
   "execution_count": 2,
   "metadata": {
    "scrolled": true
   },
   "outputs": [
    {
     "data": {
      "text/html": [
       "<div>\n",
       "<style scoped>\n",
       "    .dataframe tbody tr th:only-of-type {\n",
       "        vertical-align: middle;\n",
       "    }\n",
       "\n",
       "    .dataframe tbody tr th {\n",
       "        vertical-align: top;\n",
       "    }\n",
       "\n",
       "    .dataframe thead th {\n",
       "        text-align: right;\n",
       "    }\n",
       "</style>\n",
       "<table border=\"1\" class=\"dataframe\">\n",
       "  <thead>\n",
       "    <tr style=\"text-align: right;\">\n",
       "      <th></th>\n",
       "      <th>Date</th>\n",
       "      <th>Open</th>\n",
       "      <th>High</th>\n",
       "      <th>Low</th>\n",
       "      <th>Close</th>\n",
       "      <th>Adj Close</th>\n",
       "      <th>Volume</th>\n",
       "    </tr>\n",
       "  </thead>\n",
       "  <tbody>\n",
       "    <tr>\n",
       "      <th>0</th>\n",
       "      <td>2015-10-13</td>\n",
       "      <td>26874.289063</td>\n",
       "      <td>26918.519531</td>\n",
       "      <td>26719.099609</td>\n",
       "      <td>26846.529297</td>\n",
       "      <td>26846.529297</td>\n",
       "      <td>10800.0</td>\n",
       "    </tr>\n",
       "    <tr>\n",
       "      <th>1</th>\n",
       "      <td>2015-10-14</td>\n",
       "      <td>26760.320313</td>\n",
       "      <td>26869.080078</td>\n",
       "      <td>26713.279297</td>\n",
       "      <td>26779.660156</td>\n",
       "      <td>26779.660156</td>\n",
       "      <td>10900.0</td>\n",
       "    </tr>\n",
       "    <tr>\n",
       "      <th>2</th>\n",
       "      <td>2015-10-15</td>\n",
       "      <td>26842.189453</td>\n",
       "      <td>27037.949219</td>\n",
       "      <td>26836.769531</td>\n",
       "      <td>27010.140625</td>\n",
       "      <td>27010.140625</td>\n",
       "      <td>12700.0</td>\n",
       "    </tr>\n",
       "    <tr>\n",
       "      <th>3</th>\n",
       "      <td>2015-10-16</td>\n",
       "      <td>27062.800781</td>\n",
       "      <td>27239.220703</td>\n",
       "      <td>26917.119141</td>\n",
       "      <td>27214.599609</td>\n",
       "      <td>27214.599609</td>\n",
       "      <td>10200.0</td>\n",
       "    </tr>\n",
       "    <tr>\n",
       "      <th>4</th>\n",
       "      <td>2015-10-19</td>\n",
       "      <td>27305.619141</td>\n",
       "      <td>27387.910156</td>\n",
       "      <td>27246.789063</td>\n",
       "      <td>27364.919922</td>\n",
       "      <td>27364.919922</td>\n",
       "      <td>8200.0</td>\n",
       "    </tr>\n",
       "  </tbody>\n",
       "</table>\n",
       "</div>"
      ],
      "text/plain": [
       "         Date          Open          High           Low         Close  \\\n",
       "0  2015-10-13  26874.289063  26918.519531  26719.099609  26846.529297   \n",
       "1  2015-10-14  26760.320313  26869.080078  26713.279297  26779.660156   \n",
       "2  2015-10-15  26842.189453  27037.949219  26836.769531  27010.140625   \n",
       "3  2015-10-16  27062.800781  27239.220703  26917.119141  27214.599609   \n",
       "4  2015-10-19  27305.619141  27387.910156  27246.789063  27364.919922   \n",
       "\n",
       "      Adj Close   Volume  \n",
       "0  26846.529297  10800.0  \n",
       "1  26779.660156  10900.0  \n",
       "2  27010.140625  12700.0  \n",
       "3  27214.599609  10200.0  \n",
       "4  27364.919922   8200.0  "
      ]
     },
     "execution_count": 2,
     "metadata": {},
     "output_type": "execute_result"
    }
   ],
   "source": [
    "#Load Data\n",
    "df_stock=pd.read_csv('^BSESN.csv')\n",
    "df_stock.head()"
   ]
  },
  {
   "cell_type": "code",
   "execution_count": 3,
   "metadata": {},
   "outputs": [
    {
     "name": "stdout",
     "output_type": "stream",
     "text": [
      "<class 'pandas.core.frame.DataFrame'>\n",
      "RangeIndex: 1231 entries, 0 to 1230\n",
      "Data columns (total 7 columns):\n",
      " #   Column     Non-Null Count  Dtype  \n",
      "---  ------     --------------  -----  \n",
      " 0   Date       1231 non-null   object \n",
      " 1   Open       1227 non-null   float64\n",
      " 2   High       1227 non-null   float64\n",
      " 3   Low        1227 non-null   float64\n",
      " 4   Close      1227 non-null   float64\n",
      " 5   Adj Close  1227 non-null   float64\n",
      " 6   Volume     1227 non-null   float64\n",
      "dtypes: float64(6), object(1)\n",
      "memory usage: 67.4+ KB\n"
     ]
    }
   ],
   "source": [
    "df_stock.info()"
   ]
  },
  {
   "cell_type": "code",
   "execution_count": 4,
   "metadata": {},
   "outputs": [],
   "source": [
    "df_stock.dropna(inplace=True)"
   ]
  },
  {
   "cell_type": "code",
   "execution_count": 5,
   "metadata": {},
   "outputs": [
    {
     "name": "stdout",
     "output_type": "stream",
     "text": [
      "<class 'pandas.core.frame.DataFrame'>\n",
      "Int64Index: 1227 entries, 0 to 1230\n",
      "Data columns (total 7 columns):\n",
      " #   Column     Non-Null Count  Dtype  \n",
      "---  ------     --------------  -----  \n",
      " 0   Date       1227 non-null   object \n",
      " 1   Open       1227 non-null   float64\n",
      " 2   High       1227 non-null   float64\n",
      " 3   Low        1227 non-null   float64\n",
      " 4   Close      1227 non-null   float64\n",
      " 5   Adj Close  1227 non-null   float64\n",
      " 6   Volume     1227 non-null   float64\n",
      "dtypes: float64(6), object(1)\n",
      "memory usage: 76.7+ KB\n"
     ]
    }
   ],
   "source": [
    "df_stock.info()"
   ]
  },
  {
   "cell_type": "code",
   "execution_count": 6,
   "metadata": {},
   "outputs": [],
   "source": [
    "df_close=df_stock.reset_index()['Close']"
   ]
  },
  {
   "cell_type": "code",
   "execution_count": 7,
   "metadata": {},
   "outputs": [
    {
     "data": {
      "text/plain": [
       "0       26846.529297\n",
       "1       26779.660156\n",
       "2       27010.140625\n",
       "3       27214.599609\n",
       "4       27364.919922\n",
       "            ...     \n",
       "1222    39574.570313\n",
       "1223    39878.949219\n",
       "1224    40182.671875\n",
       "1225    40509.488281\n",
       "1226    40593.800781\n",
       "Name: Close, Length: 1227, dtype: float64"
      ]
     },
     "execution_count": 7,
     "metadata": {},
     "output_type": "execute_result"
    }
   ],
   "source": [
    "df_close"
   ]
  },
  {
   "cell_type": "code",
   "execution_count": 8,
   "metadata": {},
   "outputs": [
    {
     "data": {
      "text/plain": [
       "[<matplotlib.lines.Line2D at 0x24602089128>]"
      ]
     },
     "execution_count": 8,
     "metadata": {},
     "output_type": "execute_result"
    },
    {
     "data": {
      "image/png": "[encoded data removed]",
      "text/plain": [
       "<Figure size 720x432 with 1 Axes>"
      ]
     },
     "metadata": {
      "needs_background": "light"
     },
     "output_type": "display_data"
    }
   ],
   "source": [
    "plt.figure(figsize=(10,6))\n",
    "plt.plot(df_close)"
   ]
  },
  {
   "cell_type": "code",
   "execution_count": 9,
   "metadata": {},
   "outputs": [],
   "source": [
    "#Scaling data in range of (0,1)\n",
    "scaler=MinMaxScaler(feature_range=(0,1))\n",
    "df_close=scaler.fit_transform(df_close.values.reshape(-1,1))"
   ]
  },
  {
   "cell_type": "code",
   "execution_count": 10,
   "metadata": {},
   "outputs": [
    {
     "data": {
      "text/plain": [
       "array([[0.20497555],\n",
       "       [0.20145627],\n",
       "       [0.21358631],\n",
       "       ...,\n",
       "       [0.90684828],\n",
       "       [0.92404842],\n",
       "       [0.92848574]])"
      ]
     },
     "execution_count": 10,
     "metadata": {},
     "output_type": "execute_result"
    }
   ],
   "source": [
    "df_close"
   ]
  },
  {
   "cell_type": "code",
   "execution_count": 11,
   "metadata": {},
   "outputs": [],
   "source": [
    "training_set=int(len(df_close)*0.7)\n",
    "testing_set=int(len(df_close)-training_set)\n",
    "training_data,testing_data = df_close[0:training_set,:],df_close[training_set:len(df_close),:1]"
   ]
  },
  {
   "cell_type": "code",
   "execution_count": 15,
   "metadata": {},
   "outputs": [],
   "source": [
    "def lstm_data(dataset,timestep=1):\n",
    "    data_X,data_y=[],[]\n",
    "    for i in range(len(dataset)-timestep-1):\n",
    "        a=dataset[i:(i+timestep),0]\n",
    "        data_X.append(a)\n",
    "        data_y.append(dataset[i+timestep,0])\n",
    "    return np.array(data_X),np.array(data_y)"
   ]
  },
  {
   "cell_type": "code",
   "execution_count": 26,
   "metadata": {},
   "outputs": [],
   "source": [
    "timestep=150\n",
    "X_train,y_train=lstm_data(training_data,timestep)\n",
    "X_test,y_test=lstm_data(testing_data,timestep)"
   ]
  },
  {
   "cell_type": "code",
   "execution_count": 27,
   "metadata": {},
   "outputs": [],
   "source": [
    "X_train=X_train.reshape(X_train.shape[0],X_train.shape[1],1)\n",
    "X_test=X_test.reshape(X_test.shape[0],X_test.shape[1],1)"
   ]
  },
  {
   "cell_type": "code",
   "execution_count": 28,
   "metadata": {},
   "outputs": [],
   "source": [
    "model=Sequential()\n",
    "model.add(LSTM(50,return_sequences=True,input_shape=(150,1)))\n",
    "model.add(LSTM(50,return_sequences=True))\n",
    "model.add(LSTM(50))\n",
    "model.add(Dense(1))\n",
    "model.compile(loss='mean_squared_error',optimizer='adam')"
   ]
  },
  {
   "cell_type": "code",
   "execution_count": 29,
   "metadata": {},
   "outputs": [
    {
     "name": "stdout",
     "output_type": "stream",
     "text": [
      "Model: \"sequential_1\"\n",
      "_________________________________________________________________\n",
      "Layer (type)                 Output Shape              Param #   \n",
      "=================================================================\n",
      "lstm_1 (LSTM)                (None, 150, 50)           10400     \n",
      "_________________________________________________________________\n",
      "lstm_2 (LSTM)                (None, 150, 50)           20200     \n",
      "_________________________________________________________________\n",
      "lstm_3 (LSTM)                (None, 50)                20200     \n",
      "_________________________________________________________________\n",
      "dense_1 (Dense)              (None, 1)                 51        \n",
      "=================================================================\n",
      "Total params: 50,851\n",
      "Trainable params: 50,851\n",
      "Non-trainable params: 0\n",
      "_________________________________________________________________\n"
     ]
    }
   ],
   "source": [
    "model.summary()"
   ]
  },
  {
   "cell_type": "code",
   "execution_count": 30,
   "metadata": {},
   "outputs": [
    {
     "name": "stdout",
     "output_type": "stream",
     "text": [
      "WARNING:tensorflow:From C:\\Users\\elklo\\Anaconda3\\envs\\Aadesh\\lib\\site-packages\\keras\\backend\\tensorflow_backend.py:422: The name tf.global_variables is deprecated. Please use tf.compat.v1.global_variables instead.\n",
      "\n",
      "Train on 707 samples, validate on 218 samples\n",
      "Epoch 1/200\n",
      "707/707 [==============================] - 8s 11ms/step - loss: 0.0422 - val_loss: 0.0159\n",
      "Epoch 2/200\n",
      "707/707 [==============================] - 7s 10ms/step - loss: 0.0044 - val_loss: 0.0150\n",
      "Epoch 3/200\n",
      "707/707 [==============================] - 7s 10ms/step - loss: 0.0021 - val_loss: 0.0150\n",
      "Epoch 4/200\n",
      "707/707 [==============================] - 7s 10ms/step - loss: 0.0015 - val_loss: 0.0142\n",
      "Epoch 5/200\n",
      "707/707 [==============================] - 8s 11ms/step - loss: 0.0014 - val_loss: 0.0138\n",
      "Epoch 6/200\n",
      "707/707 [==============================] - 8s 11ms/step - loss: 0.0014 - val_loss: 0.0134\n",
      "Epoch 7/200\n",
      "707/707 [==============================] - 8s 11ms/step - loss: 0.0017 - val_loss: 0.0139\n",
      "Epoch 8/200\n",
      "707/707 [==============================] - 8s 11ms/step - loss: 0.0020 - val_loss: 0.0124\n",
      "Epoch 9/200\n",
      "707/707 [==============================] - 7s 10ms/step - loss: 0.0012 - val_loss: 0.0124\n",
      "Epoch 10/200\n",
      "707/707 [==============================] - 8s 11ms/step - loss: 0.0014 - val_loss: 0.0115\n",
      "Epoch 11/200\n",
      "707/707 [==============================] - 8s 11ms/step - loss: 0.0013 - val_loss: 0.0107\n",
      "Epoch 12/200\n",
      "707/707 [==============================] - 8s 11ms/step - loss: 0.0011 - val_loss: 0.0100\n",
      "Epoch 13/200\n",
      "707/707 [==============================] - 8s 11ms/step - loss: 0.0011 - val_loss: 0.0093\n",
      "Epoch 14/200\n",
      "707/707 [==============================] - 8s 11ms/step - loss: 0.0010 - val_loss: 0.0083\n",
      "Epoch 15/200\n",
      "707/707 [==============================] - 8s 11ms/step - loss: 9.3832e-04 - val_loss: 0.0077\n",
      "Epoch 16/200\n",
      "707/707 [==============================] - 7s 11ms/step - loss: 9.6722e-04 - val_loss: 0.0079\n",
      "Epoch 17/200\n",
      "707/707 [==============================] - 8s 11ms/step - loss: 8.4824e-04 - val_loss: 0.0104\n",
      "Epoch 18/200\n",
      "707/707 [==============================] - 7s 11ms/step - loss: 8.9709e-04 - val_loss: 0.0074\n",
      "Epoch 19/200\n",
      "707/707 [==============================] - 8s 11ms/step - loss: 8.2958e-04 - val_loss: 0.0066\n",
      "Epoch 20/200\n",
      "707/707 [==============================] - 7s 11ms/step - loss: 8.0143e-04 - val_loss: 0.0061\n",
      "Epoch 21/200\n",
      "707/707 [==============================] - 8s 11ms/step - loss: 9.6135e-04 - val_loss: 0.0061\n",
      "Epoch 22/200\n",
      "707/707 [==============================] - 7s 10ms/step - loss: 0.0010 - val_loss: 0.0077\n",
      "Epoch 23/200\n",
      "707/707 [==============================] - 8s 11ms/step - loss: 8.1712e-04 - val_loss: 0.0060\n",
      "Epoch 24/200\n",
      "707/707 [==============================] - 7s 10ms/step - loss: 7.5631e-04 - val_loss: 0.0057\n",
      "Epoch 25/200\n",
      "707/707 [==============================] - 8s 11ms/step - loss: 8.3259e-04 - val_loss: 0.0071\n",
      "Epoch 26/200\n",
      "707/707 [==============================] - 8s 11ms/step - loss: 9.0789e-04 - val_loss: 0.0069\n",
      "Epoch 27/200\n",
      "707/707 [==============================] - 8s 11ms/step - loss: 9.0609e-04 - val_loss: 0.0056\n",
      "Epoch 28/200\n",
      "707/707 [==============================] - 7s 10ms/step - loss: 7.5623e-04 - val_loss: 0.0057\n",
      "Epoch 29/200\n",
      "707/707 [==============================] - 8s 11ms/step - loss: 7.0717e-04 - val_loss: 0.0049\n",
      "Epoch 30/200\n",
      "707/707 [==============================] - 7s 11ms/step - loss: 7.6972e-04 - val_loss: 0.0050\n",
      "Epoch 31/200\n",
      "707/707 [==============================] - 8s 11ms/step - loss: 7.2081e-04 - val_loss: 0.0057\n",
      "Epoch 32/200\n",
      "707/707 [==============================] - 8s 11ms/step - loss: 6.8337e-04 - val_loss: 0.0054\n",
      "Epoch 33/200\n",
      "707/707 [==============================] - 7s 10ms/step - loss: 6.9705e-04 - val_loss: 0.0047\n",
      "Epoch 34/200\n",
      "707/707 [==============================] - 8s 11ms/step - loss: 7.1646e-04 - val_loss: 0.0043\n",
      "Epoch 35/200\n",
      "707/707 [==============================] - 7s 10ms/step - loss: 8.2030e-04 - val_loss: 0.0051\n",
      "Epoch 36/200\n",
      "707/707 [==============================] - 8s 11ms/step - loss: 7.8330e-04 - val_loss: 0.0043\n",
      "Epoch 37/200\n",
      "707/707 [==============================] - 7s 11ms/step - loss: 7.7211e-04 - val_loss: 0.0047\n",
      "Epoch 38/200\n",
      "707/707 [==============================] - 8s 11ms/step - loss: 7.3515e-04 - val_loss: 0.0042\n",
      "Epoch 39/200\n",
      "707/707 [==============================] - 8s 11ms/step - loss: 7.3774e-04 - val_loss: 0.0062\n",
      "Epoch 40/200\n",
      "707/707 [==============================] - 8s 11ms/step - loss: 7.5329e-04 - val_loss: 0.0041\n",
      "Epoch 41/200\n",
      "707/707 [==============================] - 7s 10ms/step - loss: 6.4669e-04 - val_loss: 0.0041\n",
      "Epoch 42/200\n",
      "707/707 [==============================] - 8s 11ms/step - loss: 6.4370e-04 - val_loss: 0.0046\n",
      "Epoch 43/200\n",
      "707/707 [==============================] - 7s 11ms/step - loss: 6.7543e-04 - val_loss: 0.0052\n",
      "Epoch 44/200\n",
      "707/707 [==============================] - 8s 11ms/step - loss: 7.2079e-04 - val_loss: 0.0038\n",
      "Epoch 45/200\n",
      "707/707 [==============================] - 7s 10ms/step - loss: 6.5908e-04 - val_loss: 0.0035\n",
      "Epoch 46/200\n",
      "707/707 [==============================] - 8s 11ms/step - loss: 6.8117e-04 - val_loss: 0.0039\n",
      "Epoch 47/200\n",
      "707/707 [==============================] - 8s 11ms/step - loss: 8.2138e-04 - val_loss: 0.0040\n",
      "Epoch 48/200\n",
      "707/707 [==============================] - 8s 11ms/step - loss: 6.0874e-04 - val_loss: 0.0037\n",
      "Epoch 49/200\n",
      "707/707 [==============================] - 7s 10ms/step - loss: 6.3430e-04 - val_loss: 0.0035\n",
      "Epoch 50/200\n",
      "707/707 [==============================] - 8s 11ms/step - loss: 5.7958e-04 - val_loss: 0.0038\n",
      "Epoch 51/200\n",
      "707/707 [==============================] - 8s 11ms/step - loss: 7.0430e-04 - val_loss: 0.0053\n",
      "Epoch 52/200\n",
      "707/707 [==============================] - 7s 10ms/step - loss: 6.1014e-04 - val_loss: 0.0034\n",
      "Epoch 53/200\n",
      "707/707 [==============================] - 8s 11ms/step - loss: 6.5981e-04 - val_loss: 0.0032\n",
      "Epoch 54/200\n",
      "707/707 [==============================] - 8s 11ms/step - loss: 5.6907e-04 - val_loss: 0.0036\n",
      "Epoch 55/200\n",
      "707/707 [==============================] - 8s 11ms/step - loss: 5.7751e-04 - val_loss: 0.0035\n",
      "Epoch 56/200\n",
      "707/707 [==============================] - 8s 11ms/step - loss: 8.2613e-04 - val_loss: 0.0033\n",
      "Epoch 57/200\n",
      "707/707 [==============================] - 8s 11ms/step - loss: 7.2196e-04 - val_loss: 0.0037\n",
      "Epoch 58/200\n",
      "707/707 [==============================] - 8s 11ms/step - loss: 5.8777e-04 - val_loss: 0.0120\n",
      "Epoch 59/200\n",
      "707/707 [==============================] - 8s 11ms/step - loss: 9.1256e-04 - val_loss: 0.0049\n",
      "Epoch 60/200\n",
      "707/707 [==============================] - 7s 11ms/step - loss: 7.2997e-04 - val_loss: 0.0033\n",
      "Epoch 61/200\n",
      "707/707 [==============================] - 8s 11ms/step - loss: 5.2171e-04 - val_loss: 0.0034\n",
      "Epoch 62/200\n",
      "707/707 [==============================] - 9s 12ms/step - loss: 5.8298e-04 - val_loss: 0.0038\n",
      "Epoch 63/200\n",
      "707/707 [==============================] - 8s 12ms/step - loss: 5.1462e-04 - val_loss: 0.0028\n",
      "Epoch 64/200\n",
      "707/707 [==============================] - 7s 11ms/step - loss: 5.2551e-04 - val_loss: 0.0029\n",
      "Epoch 65/200\n",
      "707/707 [==============================] - 8s 11ms/step - loss: 5.2244e-04 - val_loss: 0.0037\n",
      "Epoch 66/200\n",
      "707/707 [==============================] - 7s 11ms/step - loss: 4.9431e-04 - val_loss: 0.0029\n",
      "Epoch 67/200\n",
      "707/707 [==============================] - 8s 11ms/step - loss: 4.8573e-04 - val_loss: 0.0025\n",
      "Epoch 68/200\n",
      "707/707 [==============================] - 8s 11ms/step - loss: 5.4751e-04 - val_loss: 0.0031\n",
      "Epoch 69/200\n",
      "707/707 [==============================] - 8s 11ms/step - loss: 5.0869e-04 - val_loss: 0.0026\n",
      "Epoch 70/200\n",
      "707/707 [==============================] - 8s 11ms/step - loss: 4.5680e-04 - val_loss: 0.0031\n",
      "Epoch 71/200\n",
      "707/707 [==============================] - 8s 11ms/step - loss: 4.4085e-04 - val_loss: 0.0024\n",
      "Epoch 72/200\n",
      "707/707 [==============================] - 7s 11ms/step - loss: 4.3675e-04 - val_loss: 0.0025\n",
      "Epoch 73/200\n",
      "707/707 [==============================] - 8s 11ms/step - loss: 4.8913e-04 - val_loss: 0.0023\n",
      "Epoch 74/200\n",
      "707/707 [==============================] - 8s 11ms/step - loss: 4.3692e-04 - val_loss: 0.0022\n",
      "Epoch 75/200\n",
      "707/707 [==============================] - 8s 11ms/step - loss: 4.4858e-04 - val_loss: 0.0025\n"
     ]
    },
    {
     "name": "stdout",
     "output_type": "stream",
     "text": [
      "Epoch 76/200\n",
      "707/707 [==============================] - 7s 11ms/step - loss: 4.2000e-04 - val_loss: 0.0025\n",
      "Epoch 77/200\n",
      "707/707 [==============================] - 8s 11ms/step - loss: 3.8971e-04 - val_loss: 0.0021\n",
      "Epoch 78/200\n",
      "707/707 [==============================] - 8s 11ms/step - loss: 5.0623e-04 - val_loss: 0.0022\n",
      "Epoch 79/200\n",
      "707/707 [==============================] - 7s 11ms/step - loss: 5.1377e-04 - val_loss: 0.0028\n",
      "Epoch 80/200\n",
      "707/707 [==============================] - 8s 11ms/step - loss: 3.9247e-04 - val_loss: 0.0022\n",
      "Epoch 81/200\n",
      "707/707 [==============================] - 8s 11ms/step - loss: 3.7516e-04 - val_loss: 0.0024\n",
      "Epoch 82/200\n",
      "707/707 [==============================] - 8s 11ms/step - loss: 3.7846e-04 - val_loss: 0.0024\n",
      "Epoch 83/200\n",
      "707/707 [==============================] - 7s 11ms/step - loss: 3.6396e-04 - val_loss: 0.0037\n",
      "Epoch 84/200\n",
      "707/707 [==============================] - 8s 11ms/step - loss: 4.2356e-04 - val_loss: 0.0022\n",
      "Epoch 85/200\n",
      "707/707 [==============================] - 7s 11ms/step - loss: 3.3602e-04 - val_loss: 0.0018\n",
      "Epoch 86/200\n",
      "707/707 [==============================] - 8s 11ms/step - loss: 3.6487e-04 - val_loss: 0.0018\n",
      "Epoch 87/200\n",
      "707/707 [==============================] - 7s 10ms/step - loss: 3.2196e-04 - val_loss: 0.0017\n",
      "Epoch 88/200\n",
      "707/707 [==============================] - 8s 11ms/step - loss: 3.1743e-04 - val_loss: 0.0018\n",
      "Epoch 89/200\n",
      "707/707 [==============================] - 7s 11ms/step - loss: 4.1611e-04 - val_loss: 0.0018\n",
      "Epoch 90/200\n",
      "707/707 [==============================] - 8s 11ms/step - loss: 3.5729e-04 - val_loss: 0.0018\n",
      "Epoch 91/200\n",
      "707/707 [==============================] - 7s 11ms/step - loss: 3.8641e-04 - val_loss: 0.0017\n",
      "Epoch 92/200\n",
      "707/707 [==============================] - 8s 11ms/step - loss: 3.3794e-04 - val_loss: 0.0022\n",
      "Epoch 93/200\n",
      "707/707 [==============================] - 7s 10ms/step - loss: 2.7640e-04 - val_loss: 0.0021\n",
      "Epoch 94/200\n",
      "707/707 [==============================] - 8s 12ms/step - loss: 2.8509e-04 - val_loss: 0.0018\n",
      "Epoch 95/200\n",
      "707/707 [==============================] - 7s 11ms/step - loss: 3.7483e-04 - val_loss: 0.0017\n",
      "Epoch 96/200\n",
      "707/707 [==============================] - 8s 11ms/step - loss: 3.0979e-04 - val_loss: 0.0016\n",
      "Epoch 97/200\n",
      "707/707 [==============================] - 8s 11ms/step - loss: 3.2617e-04 - val_loss: 0.0024\n",
      "Epoch 98/200\n",
      "707/707 [==============================] - 7s 11ms/step - loss: 3.6657e-04 - val_loss: 0.0017\n",
      "Epoch 99/200\n",
      "707/707 [==============================] - 8s 11ms/step - loss: 2.8641e-04 - val_loss: 0.0015\n",
      "Epoch 100/200\n",
      "707/707 [==============================] - 7s 11ms/step - loss: 2.4182e-04 - val_loss: 0.0016\n",
      "Epoch 101/200\n",
      "707/707 [==============================] - 8s 11ms/step - loss: 2.3503e-04 - val_loss: 0.0017\n",
      "Epoch 102/200\n",
      "707/707 [==============================] - 8s 11ms/step - loss: 2.3750e-04 - val_loss: 0.0019\n",
      "Epoch 103/200\n",
      "707/707 [==============================] - 8s 11ms/step - loss: 3.5974e-04 - val_loss: 0.0018\n",
      "Epoch 104/200\n",
      "707/707 [==============================] - 10s 14ms/step - loss: 3.2260e-04 - val_loss: 0.0030\n",
      "Epoch 105/200\n",
      "707/707 [==============================] - 8s 12ms/step - loss: 3.2834e-04 - val_loss: 0.0020\n",
      "Epoch 106/200\n",
      "707/707 [==============================] - 8s 11ms/step - loss: 2.7088e-04 - val_loss: 0.0021\n",
      "Epoch 107/200\n",
      "707/707 [==============================] - 8s 11ms/step - loss: 2.4926e-04 - val_loss: 0.0020\n",
      "Epoch 108/200\n",
      "707/707 [==============================] - 7s 11ms/step - loss: 2.4462e-04 - val_loss: 0.0017\n",
      "Epoch 109/200\n",
      "707/707 [==============================] - 8s 11ms/step - loss: 2.2600e-04 - val_loss: 0.0015\n",
      "Epoch 110/200\n",
      "707/707 [==============================] - 7s 10ms/step - loss: 2.0830e-04 - val_loss: 0.0019\n",
      "Epoch 111/200\n",
      "707/707 [==============================] - 8s 11ms/step - loss: 2.3986e-04 - val_loss: 0.0016\n",
      "Epoch 112/200\n",
      "707/707 [==============================] - 7s 11ms/step - loss: 2.0212e-04 - val_loss: 0.0013\n",
      "Epoch 113/200\n",
      "707/707 [==============================] - 8s 11ms/step - loss: 2.0947e-04 - val_loss: 0.0023\n",
      "Epoch 114/200\n",
      "707/707 [==============================] - 8s 11ms/step - loss: 3.0953e-04 - val_loss: 0.0014\n",
      "Epoch 115/200\n",
      "707/707 [==============================] - 8s 11ms/step - loss: 2.4476e-04 - val_loss: 0.0014\n",
      "Epoch 116/200\n",
      "707/707 [==============================] - 8s 11ms/step - loss: 1.8765e-04 - val_loss: 0.0013\n",
      "Epoch 117/200\n",
      "707/707 [==============================] - 9s 12ms/step - loss: 2.1580e-04 - val_loss: 0.0018\n",
      "Epoch 118/200\n",
      "707/707 [==============================] - 9s 12ms/step - loss: 2.6964e-04 - val_loss: 0.0015\n",
      "Epoch 119/200\n",
      "707/707 [==============================] - 9s 13ms/step - loss: 2.1062e-04 - val_loss: 0.0026\n",
      "Epoch 120/200\n",
      "707/707 [==============================] - 9s 12ms/step - loss: 3.8224e-04 - val_loss: 0.0013\n",
      "Epoch 121/200\n",
      "707/707 [==============================] - 8s 12ms/step - loss: 2.1222e-04 - val_loss: 0.0013\n",
      "Epoch 122/200\n",
      "707/707 [==============================] - 8s 11ms/step - loss: 2.8184e-04 - val_loss: 0.0013\n",
      "Epoch 123/200\n",
      "707/707 [==============================] - 8s 11ms/step - loss: 2.3740e-04 - val_loss: 0.0030\n",
      "Epoch 124/200\n",
      "707/707 [==============================] - 8s 11ms/step - loss: 4.9226e-04 - val_loss: 0.0024\n",
      "Epoch 125/200\n",
      "707/707 [==============================] - 8s 11ms/step - loss: 2.8613e-04 - val_loss: 0.0013\n",
      "Epoch 126/200\n",
      "707/707 [==============================] - 7s 11ms/step - loss: 3.0601e-04 - val_loss: 0.0013\n",
      "Epoch 127/200\n",
      "707/707 [==============================] - 8s 11ms/step - loss: 2.1242e-04 - val_loss: 0.0015\n",
      "Epoch 128/200\n",
      "707/707 [==============================] - 7s 11ms/step - loss: 2.0147e-04 - val_loss: 0.0012\n",
      "Epoch 129/200\n",
      "707/707 [==============================] - 8s 11ms/step - loss: 2.3505e-04 - val_loss: 0.0019\n",
      "Epoch 130/200\n",
      "707/707 [==============================] - 7s 11ms/step - loss: 2.0528e-04 - val_loss: 0.0012\n",
      "Epoch 131/200\n",
      "707/707 [==============================] - 8s 11ms/step - loss: 1.8538e-04 - val_loss: 0.0012\n",
      "Epoch 132/200\n",
      "707/707 [==============================] - 8s 11ms/step - loss: 2.0437e-04 - val_loss: 0.0012\n",
      "Epoch 133/200\n",
      "707/707 [==============================] - 8s 11ms/step - loss: 1.8210e-04 - val_loss: 0.0019\n",
      "Epoch 134/200\n",
      "707/707 [==============================] - 8s 11ms/step - loss: 1.8842e-04 - val_loss: 0.0013\n",
      "Epoch 135/200\n",
      "707/707 [==============================] - 8s 11ms/step - loss: 1.8950e-04 - val_loss: 0.0013\n",
      "Epoch 136/200\n",
      "707/707 [==============================] - 8s 11ms/step - loss: 1.8983e-04 - val_loss: 0.0015\n",
      "Epoch 137/200\n",
      "707/707 [==============================] - 8s 11ms/step - loss: 2.1108e-04 - val_loss: 0.0013\n",
      "Epoch 138/200\n",
      "707/707 [==============================] - 8s 11ms/step - loss: 2.2300e-04 - val_loss: 0.0013\n",
      "Epoch 139/200\n",
      "707/707 [==============================] - 8s 11ms/step - loss: 1.7953e-04 - val_loss: 0.0014\n",
      "Epoch 140/200\n",
      "707/707 [==============================] - 8s 12ms/step - loss: 1.9188e-04 - val_loss: 0.0013\n",
      "Epoch 141/200\n",
      "707/707 [==============================] - 8s 11ms/step - loss: 1.9112e-04 - val_loss: 0.0013\n",
      "Epoch 142/200\n",
      "707/707 [==============================] - 8s 11ms/step - loss: 1.7799e-04 - val_loss: 0.0013\n",
      "Epoch 143/200\n",
      "707/707 [==============================] - 8s 11ms/step - loss: 1.8154e-04 - val_loss: 0.0013\n",
      "Epoch 144/200\n",
      "707/707 [==============================] - 9s 12ms/step - loss: 1.8441e-04 - val_loss: 0.0013\n",
      "Epoch 145/200\n",
      "707/707 [==============================] - 9s 12ms/step - loss: 2.4698e-04 - val_loss: 0.0015\n",
      "Epoch 146/200\n",
      "707/707 [==============================] - 9s 12ms/step - loss: 1.7519e-04 - val_loss: 0.0018\n",
      "Epoch 147/200\n",
      "707/707 [==============================] - 9s 13ms/step - loss: 2.2040e-04 - val_loss: 0.0016\n",
      "Epoch 148/200\n",
      "707/707 [==============================] - 9s 12ms/step - loss: 3.0148e-04 - val_loss: 0.0019\n",
      "Epoch 149/200\n",
      "707/707 [==============================] - 9s 12ms/step - loss: 2.4117e-04 - val_loss: 0.0013\n",
      "Epoch 150/200\n",
      "707/707 [==============================] - 9s 12ms/step - loss: 1.9886e-04 - val_loss: 0.0017\n",
      "Epoch 151/200\n",
      "707/707 [==============================] - 10s 14ms/step - loss: 2.2924e-04 - val_loss: 0.0013\n",
      "Epoch 152/200\n"
     ]
    },
    {
     "name": "stdout",
     "output_type": "stream",
     "text": [
      "707/707 [==============================] - 9s 12ms/step - loss: 1.8159e-04 - val_loss: 0.0013\n",
      "Epoch 153/200\n",
      "707/707 [==============================] - 8s 12ms/step - loss: 1.7457e-04 - val_loss: 0.0013\n",
      "Epoch 154/200\n",
      "707/707 [==============================] - 8s 11ms/step - loss: 1.7440e-04 - val_loss: 0.0013\n",
      "Epoch 155/200\n",
      "707/707 [==============================] - 8s 12ms/step - loss: 1.7046e-04 - val_loss: 0.0014\n",
      "Epoch 156/200\n",
      "707/707 [==============================] - 9s 13ms/step - loss: 1.7716e-04 - val_loss: 0.0013\n",
      "Epoch 157/200\n",
      "707/707 [==============================] - 8s 12ms/step - loss: 1.7656e-04 - val_loss: 0.0014\n",
      "Epoch 158/200\n",
      "707/707 [==============================] - 8s 11ms/step - loss: 1.7458e-04 - val_loss: 0.0013\n",
      "Epoch 159/200\n",
      "707/707 [==============================] - 8s 12ms/step - loss: 1.6617e-04 - val_loss: 0.0013\n",
      "Epoch 160/200\n",
      "707/707 [==============================] - 8s 11ms/step - loss: 2.1955e-04 - val_loss: 0.0018\n",
      "Epoch 161/200\n",
      "707/707 [==============================] - 8s 12ms/step - loss: 2.4873e-04 - val_loss: 0.0019\n",
      "Epoch 162/200\n",
      "707/707 [==============================] - 8s 11ms/step - loss: 1.8489e-04 - val_loss: 0.0013\n",
      "Epoch 163/200\n",
      "707/707 [==============================] - 9s 13ms/step - loss: 1.6321e-04 - val_loss: 0.0013\n",
      "Epoch 164/200\n",
      "707/707 [==============================] - 8s 12ms/step - loss: 1.7077e-04 - val_loss: 0.0014\n",
      "Epoch 165/200\n",
      "707/707 [==============================] - 7s 10ms/step - loss: 1.6625e-04 - val_loss: 0.0015\n",
      "Epoch 166/200\n",
      "707/707 [==============================] - 8s 11ms/step - loss: 1.8820e-04 - val_loss: 0.0014\n",
      "Epoch 167/200\n",
      "707/707 [==============================] - 7s 10ms/step - loss: 2.2804e-04 - val_loss: 0.0017\n",
      "Epoch 168/200\n",
      "707/707 [==============================] - 8s 11ms/step - loss: 1.9593e-04 - val_loss: 0.0013\n",
      "Epoch 169/200\n",
      "707/707 [==============================] - 8s 11ms/step - loss: 1.7161e-04 - val_loss: 0.0013\n",
      "Epoch 170/200\n",
      "707/707 [==============================] - 8s 11ms/step - loss: 1.8843e-04 - val_loss: 0.0018\n",
      "Epoch 171/200\n",
      "707/707 [==============================] - 8s 11ms/step - loss: 1.8673e-04 - val_loss: 0.0013\n",
      "Epoch 172/200\n",
      "707/707 [==============================] - 8s 11ms/step - loss: 1.6272e-04 - val_loss: 0.0013\n",
      "Epoch 173/200\n",
      "707/707 [==============================] - 8s 11ms/step - loss: 1.6006e-04 - val_loss: 0.0013\n",
      "Epoch 174/200\n",
      "707/707 [==============================] - 8s 11ms/step - loss: 1.7668e-04 - val_loss: 0.0013\n",
      "Epoch 175/200\n",
      "707/707 [==============================] - 7s 10ms/step - loss: 1.6090e-04 - val_loss: 0.0014\n",
      "Epoch 176/200\n",
      "707/707 [==============================] - 8s 12ms/step - loss: 1.6613e-04 - val_loss: 0.0015\n",
      "Epoch 177/200\n",
      "707/707 [==============================] - 8s 12ms/step - loss: 2.2988e-04 - val_loss: 0.0015\n",
      "Epoch 178/200\n",
      "707/707 [==============================] - 9s 12ms/step - loss: 1.5381e-04 - val_loss: 0.0013\n",
      "Epoch 179/200\n",
      "707/707 [==============================] - 9s 13ms/step - loss: 1.7733e-04 - val_loss: 0.0013\n",
      "Epoch 180/200\n",
      "707/707 [==============================] - 8s 12ms/step - loss: 1.9398e-04 - val_loss: 0.0013\n",
      "Epoch 181/200\n",
      "707/707 [==============================] - 8s 11ms/step - loss: 2.1018e-04 - val_loss: 0.0020\n",
      "Epoch 182/200\n",
      "707/707 [==============================] - 8s 12ms/step - loss: 2.0482e-04 - val_loss: 0.0013\n",
      "Epoch 183/200\n",
      "707/707 [==============================] - 8s 12ms/step - loss: 1.8753e-04 - val_loss: 0.0016\n",
      "Epoch 184/200\n",
      "707/707 [==============================] - 8s 12ms/step - loss: 2.1050e-04 - val_loss: 0.0013\n",
      "Epoch 185/200\n",
      "707/707 [==============================] - 8s 11ms/step - loss: 2.1918e-04 - val_loss: 0.0016\n",
      "Epoch 186/200\n",
      "707/707 [==============================] - 8s 11ms/step - loss: 1.7694e-04 - val_loss: 0.0014\n",
      "Epoch 187/200\n",
      "707/707 [==============================] - 7s 11ms/step - loss: 2.1453e-04 - val_loss: 0.0017\n",
      "Epoch 188/200\n",
      "707/707 [==============================] - 9s 13ms/step - loss: 1.9458e-04 - val_loss: 0.0013\n",
      "Epoch 189/200\n",
      "707/707 [==============================] - 8s 11ms/step - loss: 1.7586e-04 - val_loss: 0.0013\n",
      "Epoch 190/200\n",
      "707/707 [==============================] - 8s 11ms/step - loss: 1.8564e-04 - val_loss: 0.0014\n",
      "Epoch 191/200\n",
      "707/707 [==============================] - 8s 11ms/step - loss: 1.5951e-04 - val_loss: 0.0016\n",
      "Epoch 192/200\n",
      "707/707 [==============================] - 8s 11ms/step - loss: 1.7404e-04 - val_loss: 0.0013\n",
      "Epoch 193/200\n",
      "707/707 [==============================] - 8s 11ms/step - loss: 1.8065e-04 - val_loss: 0.0013\n",
      "Epoch 194/200\n",
      "707/707 [==============================] - 8s 11ms/step - loss: 1.8421e-04 - val_loss: 0.0014\n",
      "Epoch 195/200\n",
      "707/707 [==============================] - 7s 10ms/step - loss: 1.6666e-04 - val_loss: 0.0014\n",
      "Epoch 196/200\n",
      "707/707 [==============================] - 8s 11ms/step - loss: 1.6288e-04 - val_loss: 0.0014\n",
      "Epoch 197/200\n",
      "707/707 [==============================] - 7s 10ms/step - loss: 1.7736e-04 - val_loss: 0.0014\n",
      "Epoch 198/200\n",
      "707/707 [==============================] - 8s 11ms/step - loss: 2.2405e-04 - val_loss: 0.0025\n",
      "Epoch 199/200\n",
      "707/707 [==============================] - 8s 11ms/step - loss: 3.1752e-04 - val_loss: 0.0013\n",
      "Epoch 200/200\n",
      "707/707 [==============================] - 7s 10ms/step - loss: 1.6142e-04 - val_loss: 0.0013\n"
     ]
    },
    {
     "data": {
      "text/plain": [
       "<keras.callbacks.callbacks.History at 0x246080edf60>"
      ]
     },
     "execution_count": 30,
     "metadata": {},
     "output_type": "execute_result"
    }
   ],
   "source": [
    "model.fit(X_train,y_train,validation_data=(X_test,y_test),epochs=200,verbose=1)"
   ]
  },
  {
   "cell_type": "code",
   "execution_count": 57,
   "metadata": {},
   "outputs": [
    {
     "name": "stdout",
     "output_type": "stream",
     "text": [
      "688.9377394040541\n"
     ]
    }
   ],
   "source": [
    "test_predict=model.predict(X_test)\n",
    "test_predict=scaler.inverse_transform(test_predict)\n",
    "y_test=scaler.inverse_transform(y_test.reshape(-1,1))\n",
    "print(np.sqrt(mean_squared_error(y_test,test_predict)))"
   ]
  },
  {
   "cell_type": "code",
   "execution_count": 56,
   "metadata": {},
   "outputs": [
    {
     "name": "stdout",
     "output_type": "stream",
     "text": [
      "236.17949588444816\n"
     ]
    }
   ],
   "source": [
    "train_predict=model.predict(X_train)\n",
    "train_predict=scaler.inverse_transform(train_predict)\n",
    "y_train=scaler.inverse_transform(y_train.reshape(-1,1))\n",
    "print(np.sqrt(mean_squared_error(y_train,train_predict)))"
   ]
  },
  {
   "cell_type": "code",
   "execution_count": 59,
   "metadata": {},
   "outputs": [
    {
     "data": {
      "text/plain": [
       "<matplotlib.legend.Legend at 0x24610d9ff98>"
      ]
     },
     "execution_count": 59,
     "metadata": {},
     "output_type": "execute_result"
    },
    {
     "data": {
      "image/png": "[encoded data removed]",
      "text/plain": [
       "<Figure size 720x576 with 1 Axes>"
      ]
     },
     "metadata": {
      "needs_background": "light"
     },
     "output_type": "display_data"
    }
   ],
   "source": [
    "look_back=150\n",
    "trainPredictPlot=np.empty_like(df_close)\n",
    "trainPredictPlot[:,:]=np.nan\n",
    "trainPredictPlot[look_back:len(train_predict)+look_back, :]=train_predict\n",
    "testPredictPlot=np.empty_like(df_close)\n",
    "testPredictPlot[:,:]=np.nan\n",
    "testPredictPlot[len(train_predict)+(look_back*2)+1:len(df_close)-1, :]=test_predict\n",
    "plt.figure(figsize=(10,8))\n",
    "plt.plot(scaler.inverse_transform(df_close),label='original_data')\n",
    "plt.plot(trainPredictPlot,label='train_predict')\n",
    "plt.plot(testPredictPlot,label='test_predict')\n",
    "plt.legend()"
   ]
  },
  {
   "cell_type": "markdown",
   "metadata": {},
   "source": [
    "# Textual_data"
   ]
  },
  {
   "cell_type": "code",
   "execution_count": 62,
   "metadata": {},
   "outputs": [
    {
     "data": {
      "text/html": [
       "<div>\n",
       "<style scoped>\n",
       "    .dataframe tbody tr th:only-of-type {\n",
       "        vertical-align: middle;\n",
       "    }\n",
       "\n",
       "    .dataframe tbody tr th {\n",
       "        vertical-align: top;\n",
       "    }\n",
       "\n",
       "    .dataframe thead th {\n",
       "        text-align: right;\n",
       "    }\n",
       "</style>\n",
       "<table border=\"1\" class=\"dataframe\">\n",
       "  <thead>\n",
       "    <tr style=\"text-align: right;\">\n",
       "      <th></th>\n",
       "      <th>publish_date</th>\n",
       "      <th>headline_category</th>\n",
       "      <th>headline_text</th>\n",
       "    </tr>\n",
       "  </thead>\n",
       "  <tbody>\n",
       "    <tr>\n",
       "      <th>0</th>\n",
       "      <td>20010101</td>\n",
       "      <td>sports.wwe</td>\n",
       "      <td>win over cena satisfying but defeating underta...</td>\n",
       "    </tr>\n",
       "    <tr>\n",
       "      <th>1</th>\n",
       "      <td>20010102</td>\n",
       "      <td>unknown</td>\n",
       "      <td>Status quo will not be disturbed at Ayodhya; s...</td>\n",
       "    </tr>\n",
       "    <tr>\n",
       "      <th>2</th>\n",
       "      <td>20010102</td>\n",
       "      <td>unknown</td>\n",
       "      <td>Fissures in Hurriyat over Pak visit</td>\n",
       "    </tr>\n",
       "    <tr>\n",
       "      <th>3</th>\n",
       "      <td>20010102</td>\n",
       "      <td>unknown</td>\n",
       "      <td>America's unwanted heading for India?</td>\n",
       "    </tr>\n",
       "    <tr>\n",
       "      <th>4</th>\n",
       "      <td>20010102</td>\n",
       "      <td>unknown</td>\n",
       "      <td>For bigwigs; it is destination Goa</td>\n",
       "    </tr>\n",
       "  </tbody>\n",
       "</table>\n",
       "</div>"
      ],
      "text/plain": [
       "   publish_date headline_category  \\\n",
       "0      20010101        sports.wwe   \n",
       "1      20010102           unknown   \n",
       "2      20010102           unknown   \n",
       "3      20010102           unknown   \n",
       "4      20010102           unknown   \n",
       "\n",
       "                                       headline_text  \n",
       "0  win over cena satisfying but defeating underta...  \n",
       "1  Status quo will not be disturbed at Ayodhya; s...  \n",
       "2                Fissures in Hurriyat over Pak visit  \n",
       "3              America's unwanted heading for India?  \n",
       "4                 For bigwigs; it is destination Goa  "
      ]
     },
     "execution_count": 62,
     "metadata": {},
     "output_type": "execute_result"
    }
   ],
   "source": [
    "df_news=pd.read_csv('india-news-headlines.csv')\n",
    "df_news.head()"
   ]
  },
  {
   "cell_type": "code",
   "execution_count": 63,
   "metadata": {},
   "outputs": [
    {
     "name": "stdout",
     "output_type": "stream",
     "text": [
      "<class 'pandas.core.frame.DataFrame'>\n",
      "RangeIndex: 3297172 entries, 0 to 3297171\n",
      "Data columns (total 3 columns):\n",
      " #   Column             Dtype \n",
      "---  ------             ----- \n",
      " 0   publish_date       int64 \n",
      " 1   headline_category  object\n",
      " 2   headline_text      object\n",
      "dtypes: int64(1), object(2)\n",
      "memory usage: 75.5+ MB\n"
     ]
    }
   ],
   "source": [
    "df_news.info()"
   ]
  },
  {
   "cell_type": "code",
   "execution_count": 66,
   "metadata": {},
   "outputs": [
    {
     "data": {
      "text/plain": [
       "india                              285619\n",
       "unknown                            207732\n",
       "city.mumbai                        132649\n",
       "city.delhi                         124658\n",
       "business.india-business            115246\n",
       "city.chandigarh                    107464\n",
       "city.hyderabad                      99014\n",
       "city.bengaluru                      91857\n",
       "entertainment.hindi.bollywood       90374\n",
       "city.ahmedabad                      85813\n",
       "city.pune                           84620\n",
       "city.lucknow                        83591\n",
       "city.kolkata                        81298\n",
       "city.nagpur                         77300\n",
       "city.goa                            76409\n",
       "city.chennai                        72264\n",
       "city.patna                          70386\n",
       "city.jaipur                         53695\n",
       "sports.icc-world-cup-2015           40537\n",
       "business.international-business     36356\n",
       "Name: headline_category, dtype: int64"
      ]
     },
     "execution_count": 66,
     "metadata": {},
     "output_type": "execute_result"
    }
   ],
   "source": [
    "df_news['headline_category'].value_counts()[:20]"
   ]
  },
  {
   "cell_type": "code",
   "execution_count": 68,
   "metadata": {},
   "outputs": [],
   "source": [
    "business_news=df_news[df_news['headline_category']=='business.international-business']"
   ]
  },
  {
   "cell_type": "code",
   "execution_count": 69,
   "metadata": {},
   "outputs": [
    {
     "data": {
      "text/html": [
       "<div>\n",
       "<style scoped>\n",
       "    .dataframe tbody tr th:only-of-type {\n",
       "        vertical-align: middle;\n",
       "    }\n",
       "\n",
       "    .dataframe tbody tr th {\n",
       "        vertical-align: top;\n",
       "    }\n",
       "\n",
       "    .dataframe thead th {\n",
       "        text-align: right;\n",
       "    }\n",
       "</style>\n",
       "<table border=\"1\" class=\"dataframe\">\n",
       "  <thead>\n",
       "    <tr style=\"text-align: right;\">\n",
       "      <th></th>\n",
       "      <th>publish_date</th>\n",
       "      <th>headline_category</th>\n",
       "      <th>headline_text</th>\n",
       "    </tr>\n",
       "  </thead>\n",
       "  <tbody>\n",
       "    <tr>\n",
       "      <th>5484</th>\n",
       "      <td>20010620</td>\n",
       "      <td>business.international-business</td>\n",
       "      <td>Media; publications promise big ad spend in fu...</td>\n",
       "    </tr>\n",
       "    <tr>\n",
       "      <th>5652</th>\n",
       "      <td>20010620</td>\n",
       "      <td>business.international-business</td>\n",
       "      <td>Jaswant holds talks on bilateral trade; WTO</td>\n",
       "    </tr>\n",
       "    <tr>\n",
       "      <th>5685</th>\n",
       "      <td>20010620</td>\n",
       "      <td>business.international-business</td>\n",
       "      <td>Indian American in Disney Interactive top post</td>\n",
       "    </tr>\n",
       "    <tr>\n",
       "      <th>5778</th>\n",
       "      <td>20010622</td>\n",
       "      <td>business.international-business</td>\n",
       "      <td>TCS sets up Asia-Pacific HQ in Singapore</td>\n",
       "    </tr>\n",
       "    <tr>\n",
       "      <th>5798</th>\n",
       "      <td>20010623</td>\n",
       "      <td>business.international-business</td>\n",
       "      <td>Nissan; Mitsubishi cut global vehicle output i...</td>\n",
       "    </tr>\n",
       "  </tbody>\n",
       "</table>\n",
       "</div>"
      ],
      "text/plain": [
       "      publish_date                headline_category  \\\n",
       "5484      20010620  business.international-business   \n",
       "5652      20010620  business.international-business   \n",
       "5685      20010620  business.international-business   \n",
       "5778      20010622  business.international-business   \n",
       "5798      20010623  business.international-business   \n",
       "\n",
       "                                          headline_text  \n",
       "5484  Media; publications promise big ad spend in fu...  \n",
       "5652        Jaswant holds talks on bilateral trade; WTO  \n",
       "5685     Indian American in Disney Interactive top post  \n",
       "5778           TCS sets up Asia-Pacific HQ in Singapore  \n",
       "5798  Nissan; Mitsubishi cut global vehicle output i...  "
      ]
     },
     "execution_count": 69,
     "metadata": {},
     "output_type": "execute_result"
    }
   ],
   "source": [
    "business_news.head()"
   ]
  },
  {
   "cell_type": "code",
   "execution_count": 74,
   "metadata": {},
   "outputs": [],
   "source": [
    "grouped=pd.DataFrame(business_news.groupby('publish_date')['headline_text'].sum())"
   ]
  },
  {
   "cell_type": "code",
   "execution_count": 75,
   "metadata": {},
   "outputs": [
    {
     "data": {
      "text/html": [
       "<div>\n",
       "<style scoped>\n",
       "    .dataframe tbody tr th:only-of-type {\n",
       "        vertical-align: middle;\n",
       "    }\n",
       "\n",
       "    .dataframe tbody tr th {\n",
       "        vertical-align: top;\n",
       "    }\n",
       "\n",
       "    .dataframe thead th {\n",
       "        text-align: right;\n",
       "    }\n",
       "</style>\n",
       "<table border=\"1\" class=\"dataframe\">\n",
       "  <thead>\n",
       "    <tr style=\"text-align: right;\">\n",
       "      <th></th>\n",
       "      <th>headline_text</th>\n",
       "    </tr>\n",
       "    <tr>\n",
       "      <th>publish_date</th>\n",
       "      <th></th>\n",
       "    </tr>\n",
       "  </thead>\n",
       "  <tbody>\n",
       "    <tr>\n",
       "      <th>20010620</th>\n",
       "      <td>Media; publications promise big ad spend in fu...</td>\n",
       "    </tr>\n",
       "    <tr>\n",
       "      <th>20010622</th>\n",
       "      <td>TCS sets up Asia-Pacific HQ in Singapore</td>\n",
       "    </tr>\n",
       "    <tr>\n",
       "      <th>20010623</th>\n",
       "      <td>Nissan; Mitsubishi cut global vehicle output i...</td>\n",
       "    </tr>\n",
       "    <tr>\n",
       "      <th>20010624</th>\n",
       "      <td>China-Russia trade hits record levelSatellite'...</td>\n",
       "    </tr>\n",
       "    <tr>\n",
       "      <th>20010625</th>\n",
       "      <td>Gaz De France to hedge Petronet's riskLord Pau...</td>\n",
       "    </tr>\n",
       "    <tr>\n",
       "      <th>...</th>\n",
       "      <td>...</td>\n",
       "    </tr>\n",
       "    <tr>\n",
       "      <th>20200422</th>\n",
       "      <td>US Senate approves nearly $500 billion more fo...</td>\n",
       "    </tr>\n",
       "    <tr>\n",
       "      <th>20200516</th>\n",
       "      <td>Donald Trump threatens to tax companies produc...</td>\n",
       "    </tr>\n",
       "    <tr>\n",
       "      <th>20200527</th>\n",
       "      <td>From Wall Street to Bethlehem; iconic sites re...</td>\n",
       "    </tr>\n",
       "    <tr>\n",
       "      <th>20200604</th>\n",
       "      <td>US launches probe into tax on Amazon; Netflix</td>\n",
       "    </tr>\n",
       "    <tr>\n",
       "      <th>20200613</th>\n",
       "      <td>lessons from chinese companies response to cov...</td>\n",
       "    </tr>\n",
       "  </tbody>\n",
       "</table>\n",
       "<p>3809 rows × 1 columns</p>\n",
       "</div>"
      ],
      "text/plain": [
       "                                                  headline_text\n",
       "publish_date                                                   \n",
       "20010620      Media; publications promise big ad spend in fu...\n",
       "20010622               TCS sets up Asia-Pacific HQ in Singapore\n",
       "20010623      Nissan; Mitsubishi cut global vehicle output i...\n",
       "20010624      China-Russia trade hits record levelSatellite'...\n",
       "20010625      Gaz De France to hedge Petronet's riskLord Pau...\n",
       "...                                                         ...\n",
       "20200422      US Senate approves nearly $500 billion more fo...\n",
       "20200516      Donald Trump threatens to tax companies produc...\n",
       "20200527      From Wall Street to Bethlehem; iconic sites re...\n",
       "20200604          US launches probe into tax on Amazon; Netflix\n",
       "20200613      lessons from chinese companies response to cov...\n",
       "\n",
       "[3809 rows x 1 columns]"
      ]
     },
     "execution_count": 75,
     "metadata": {},
     "output_type": "execute_result"
    }
   ],
   "source": [
    "grouped"
   ]
  },
  {
   "cell_type": "code",
   "execution_count": null,
   "metadata": {},
   "outputs": [],
   "source": []
  }
 ],
 "metadata": {
  "kernelspec": {
   "display_name": "Python 3",
   "language": "python",
   "name": "python3"
  },
  "language_info": {
   "codemirror_mode": {
    "name": "ipython",
    "version": 3
   },
   "file_extension": ".py",
   "mimetype": "text/x-python",
   "name": "python",
   "nbconvert_exporter": "python",
   "pygments_lexer": "ipython3",
   "version": "3.7.1"
  }
 },
 "nbformat": 4,
 "nbformat_minor": 4
}
